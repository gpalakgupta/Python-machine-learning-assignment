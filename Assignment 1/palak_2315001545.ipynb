{
 "cells": [
  {
   "cell_type": "code",
   "execution_count": 6,
   "id": "aa684f0e-5d81-40c1-9a46-2f2ddf0506cd",
   "metadata": {},
   "outputs": [],
   "source": [
    "# Make a custom exception"
   ]
  },
  {
   "cell_type": "code",
   "execution_count": 7,
   "id": "55756c0a-5e31-4c8b-bf56-942d1b6d6bdf",
   "metadata": {},
   "outputs": [],
   "source": [
    "class Myclass(Exception):\n",
    "    def __init__(self,msg):\n",
    "        super().__init__(msg)"
   ]
  },
  {
   "cell_type": "code",
   "execution_count": 8,
   "id": "1dc5e0f6-f1e2-42d4-8af2-32266171ab90",
   "metadata": {},
   "outputs": [],
   "source": [
    "def check(x):\n",
    "    if(x < 0):\n",
    "        raise Myclass(\"Value can't be negative\")\n",
    "    else:\n",
    "        print(\"Value is valid\")"
   ]
  },
  {
   "cell_type": "code",
   "execution_count": 9,
   "id": "f5afbd88-8d4a-4365-843e-a15793413402",
   "metadata": {},
   "outputs": [
    {
     "name": "stdout",
     "output_type": "stream",
     "text": [
      "Value can't be negative\n"
     ]
    }
   ],
   "source": [
    "try:\n",
    "    check(-5)\n",
    "except Myclass as e:\n",
    "    print(e)"
   ]
  },
  {
   "cell_type": "code",
   "execution_count": 10,
   "id": "2b346146-e487-43d5-8dea-0c3e8216dd50",
   "metadata": {},
   "outputs": [
    {
     "name": "stdout",
     "output_type": "stream",
     "text": [
      "Value is valid\n"
     ]
    }
   ],
   "source": [
    "try:\n",
    "    check(6)\n",
    "except Myclass as e:\n",
    "    print(e)"
   ]
  },
  {
   "cell_type": "code",
   "execution_count": null,
   "id": "913f725b-010c-4c3b-bb1f-250e6c1a9e40",
   "metadata": {},
   "outputs": [],
   "source": []
  },
  {
   "cell_type": "code",
   "execution_count": 11,
   "id": "72ff782a-84dd-4f61-8504-d6dd6defb836",
   "metadata": {},
   "outputs": [],
   "source": [
    "# Make a 2-d array and read and write it in a csv format"
   ]
  },
  {
   "cell_type": "code",
   "execution_count": 12,
   "id": "5eabfccb-541f-4871-97b1-3c15a064017a",
   "metadata": {},
   "outputs": [],
   "source": [
    "arr = [\n",
    "    [1,2,3],\n",
    "    [4,5,6],\n",
    "    [7,8,9]\n",
    "]"
   ]
  },
  {
   "cell_type": "code",
   "execution_count": 13,
   "id": "7a4f94b0-8cda-4357-b217-497f90dd9e40",
   "metadata": {},
   "outputs": [],
   "source": [
    "import csv"
   ]
  },
  {
   "cell_type": "code",
   "execution_count": 16,
   "id": "6345f8c2-b3c7-459c-ac45-a56b55a7a24a",
   "metadata": {},
   "outputs": [],
   "source": [
    "with open('output.csv','w',newline='') as file:\n",
    "    writer = csv.writer(file)\n",
    "    writer.writerows(arr)"
   ]
  },
  {
   "cell_type": "code",
   "execution_count": 17,
   "id": "e548867d-0244-4721-bcb4-79c32ea32a28",
   "metadata": {},
   "outputs": [
    {
     "name": "stdout",
     "output_type": "stream",
     "text": [
      "[1, 2, 3]\n",
      "[4, 5, 6]\n",
      "[7, 8, 9]\n"
     ]
    }
   ],
   "source": [
    "read_data = []\n",
    "with open('output.csv','r') as file:\n",
    "    reader = csv.reader(file)\n",
    "    for row in reader:\n",
    "        read_data.append([int(x) for x in row])\n",
    "for row in read_data:\n",
    "    print(row)"
   ]
  },
  {
   "cell_type": "code",
   "execution_count": null,
   "id": "84812528-1f96-44ee-8bb9-547b94b31f5d",
   "metadata": {},
   "outputs": [],
   "source": []
  }
 ],
 "metadata": {
  "kernelspec": {
   "display_name": "Python 3 (ipykernel)",
   "language": "python",
   "name": "python3"
  },
  "language_info": {
   "codemirror_mode": {
    "name": "ipython",
    "version": 3
   },
   "file_extension": ".py",
   "mimetype": "text/x-python",
   "name": "python",
   "nbconvert_exporter": "python",
   "pygments_lexer": "ipython3",
   "version": "3.13.4"
  }
 },
 "nbformat": 4,
 "nbformat_minor": 5
}
