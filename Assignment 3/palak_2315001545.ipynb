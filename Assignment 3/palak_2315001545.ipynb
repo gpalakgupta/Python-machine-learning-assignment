{
 "cells": [
  {
   "cell_type": "code",
   "execution_count": 16,
   "id": "fb8807d3-0bc1-4c0b-92bb-64e6101c9e2d",
   "metadata": {},
   "outputs": [],
   "source": [
    "import pandas as pd\n",
    "import numpy as np"
   ]
  },
  {
   "cell_type": "code",
   "execution_count": 17,
   "id": "e6dcf6a7-472f-4d7c-9ed6-867b3238da54",
   "metadata": {},
   "outputs": [],
   "source": [
    "# Task 1: Working with Series"
   ]
  },
  {
   "cell_type": "code",
   "execution_count": 18,
   "id": "5998dcba-1c42-4f9f-ab2e-6152cc361ea5",
   "metadata": {},
   "outputs": [],
   "source": [
    "# Create a Pandas Series from the following list:\n",
    "data = [25,30,35,40,45]\n",
    "ps = pd.Series(data)"
   ]
  },
  {
   "cell_type": "code",
   "execution_count": 19,
   "id": "a53abdb1-fba2-41b3-b944-e8fe35727ee7",
   "metadata": {},
   "outputs": [
    {
     "name": "stdout",
     "output_type": "stream",
     "text": [
      "0    25\n",
      "1    30\n",
      "2    35\n",
      "3    40\n",
      "4    45\n",
      "dtype: int64\n"
     ]
    }
   ],
   "source": [
    "print(ps)"
   ]
  },
  {
   "cell_type": "code",
   "execution_count": 20,
   "id": "687119e8-0e96-4f8a-9e0f-b8226a32b68f",
   "metadata": {},
   "outputs": [],
   "source": [
    "ps = pd.Series(data,index=['A','B','C','D','E'])"
   ]
  },
  {
   "cell_type": "code",
   "execution_count": 21,
   "id": "3ab8c5cb-9d7a-425e-9f47-29b4bd23e18f",
   "metadata": {},
   "outputs": [
    {
     "name": "stdout",
     "output_type": "stream",
     "text": [
      "A    25\n",
      "B    30\n",
      "C    35\n",
      "D    40\n",
      "E    45\n",
      "dtype: int64\n"
     ]
    }
   ],
   "source": [
    "print(ps)"
   ]
  },
  {
   "cell_type": "code",
   "execution_count": 26,
   "id": "1c58524f-1a11-41aa-a6d1-5762664caa22",
   "metadata": {},
   "outputs": [
    {
     "name": "stdout",
     "output_type": "stream",
     "text": [
      "A    25\n",
      "B    30\n",
      "C    35\n",
      "dtype: int64\n"
     ]
    }
   ],
   "source": [
    "# print(ps[['A','B','C']])\n",
    "print(ps[:3])"
   ]
  },
  {
   "cell_type": "code",
   "execution_count": 23,
   "id": "271f5253-7c1b-46bf-8de8-b26c3aa9780a",
   "metadata": {},
   "outputs": [
    {
     "name": "stdout",
     "output_type": "stream",
     "text": [
      "35.0\n"
     ]
    }
   ],
   "source": [
    "print(ps.mean())"
   ]
  },
  {
   "cell_type": "code",
   "execution_count": 24,
   "id": "01567a9f-9259-4178-a59a-73d6f06a269b",
   "metadata": {},
   "outputs": [
    {
     "name": "stdout",
     "output_type": "stream",
     "text": [
      "35.0\n"
     ]
    }
   ],
   "source": [
    "print(ps.median())"
   ]
  },
  {
   "cell_type": "code",
   "execution_count": 28,
   "id": "83cde860-8c81-47b3-a413-d508f5990bb6",
   "metadata": {},
   "outputs": [
    {
     "name": "stdout",
     "output_type": "stream",
     "text": [
      "7.905694150420948\n"
     ]
    }
   ],
   "source": [
    "print(ps.std())"
   ]
  },
  {
   "cell_type": "code",
   "execution_count": 29,
   "id": "aa555aff-178b-4dfc-ac17-d5b10bdce0ff",
   "metadata": {},
   "outputs": [],
   "source": [
    "# Task 2: Creating and Inspecting DataFrames"
   ]
  },
  {
   "cell_type": "code",
   "execution_count": 30,
   "id": "008148db-7cc0-46bd-84c1-b4753e5c76de",
   "metadata": {},
   "outputs": [],
   "source": [
    "data = {\n",
    "    \"Name\" : [\"Alice\",\"Bob\",\"Carol\",\"David\",\"Eve\"],\n",
    "    \"Age\" : [20,22,19,21,20],\n",
    "    \"Gender\" : [\"Female\",\"Male\",\"Female\",\"Male\",\"Female\"],\n",
    "    \"Marks\" : [85,78,92,74,88]\n",
    "}"
   ]
  },
  {
   "cell_type": "code",
   "execution_count": 31,
   "id": "eeb634c7-76c8-47b0-b200-be2d72a9b2c2",
   "metadata": {},
   "outputs": [],
   "source": [
    "df = pd.DataFrame(data)"
   ]
  },
  {
   "cell_type": "code",
   "execution_count": 32,
   "id": "469bb4d1-bedc-4af5-b76a-0cac87ca0aa0",
   "metadata": {},
   "outputs": [
    {
     "data": {
      "text/html": [
       "<div>\n",
       "<style scoped>\n",
       "    .dataframe tbody tr th:only-of-type {\n",
       "        vertical-align: middle;\n",
       "    }\n",
       "\n",
       "    .dataframe tbody tr th {\n",
       "        vertical-align: top;\n",
       "    }\n",
       "\n",
       "    .dataframe thead th {\n",
       "        text-align: right;\n",
       "    }\n",
       "</style>\n",
       "<table border=\"1\" class=\"dataframe\">\n",
       "  <thead>\n",
       "    <tr style=\"text-align: right;\">\n",
       "      <th></th>\n",
       "      <th>Name</th>\n",
       "      <th>Age</th>\n",
       "      <th>Gender</th>\n",
       "      <th>Marks</th>\n",
       "    </tr>\n",
       "  </thead>\n",
       "  <tbody>\n",
       "    <tr>\n",
       "      <th>0</th>\n",
       "      <td>Alice</td>\n",
       "      <td>20</td>\n",
       "      <td>Female</td>\n",
       "      <td>85</td>\n",
       "    </tr>\n",
       "    <tr>\n",
       "      <th>1</th>\n",
       "      <td>Bob</td>\n",
       "      <td>22</td>\n",
       "      <td>Male</td>\n",
       "      <td>78</td>\n",
       "    </tr>\n",
       "    <tr>\n",
       "      <th>2</th>\n",
       "      <td>Carol</td>\n",
       "      <td>19</td>\n",
       "      <td>Female</td>\n",
       "      <td>92</td>\n",
       "    </tr>\n",
       "    <tr>\n",
       "      <th>3</th>\n",
       "      <td>David</td>\n",
       "      <td>21</td>\n",
       "      <td>Male</td>\n",
       "      <td>74</td>\n",
       "    </tr>\n",
       "    <tr>\n",
       "      <th>4</th>\n",
       "      <td>Eve</td>\n",
       "      <td>20</td>\n",
       "      <td>Female</td>\n",
       "      <td>88</td>\n",
       "    </tr>\n",
       "  </tbody>\n",
       "</table>\n",
       "</div>"
      ],
      "text/plain": [
       "    Name  Age  Gender  Marks\n",
       "0  Alice   20  Female     85\n",
       "1    Bob   22    Male     78\n",
       "2  Carol   19  Female     92\n",
       "3  David   21    Male     74\n",
       "4    Eve   20  Female     88"
      ]
     },
     "execution_count": 32,
     "metadata": {},
     "output_type": "execute_result"
    }
   ],
   "source": [
    "df"
   ]
  },
  {
   "cell_type": "code",
   "execution_count": 36,
   "id": "30478d57-5907-421a-a246-ef3541d850de",
   "metadata": {},
   "outputs": [
    {
     "name": "stdout",
     "output_type": "stream",
     "text": [
      "    Name  Age  Gender  Marks\n",
      "0  Alice   20  Female     85\n",
      "1    Bob   22    Male     78\n"
     ]
    }
   ],
   "source": [
    "# Display the first two rows of the DataFrame.\n",
    "print(df.head(2))"
   ]
  },
  {
   "cell_type": "code",
   "execution_count": 37,
   "id": "fca0308b-c745-4ad1-a7cd-3f641bbcacce",
   "metadata": {},
   "outputs": [
    {
     "name": "stdout",
     "output_type": "stream",
     "text": [
      "['Name', 'Age', 'Gender', 'Marks']\n"
     ]
    }
   ],
   "source": [
    "# Display the column names, data types, and summary statistics.\n",
    "print(df.columns.tolist())"
   ]
  },
  {
   "cell_type": "code",
   "execution_count": 39,
   "id": "d43f2020-735f-478c-b63c-6c547451b49e",
   "metadata": {},
   "outputs": [
    {
     "name": "stdout",
     "output_type": "stream",
     "text": [
      "Name      object\n",
      "Age        int64\n",
      "Gender    object\n",
      "Marks      int64\n",
      "dtype: object\n"
     ]
    }
   ],
   "source": [
    "print(df.dtypes)"
   ]
  },
  {
   "cell_type": "code",
   "execution_count": 40,
   "id": "5036d434-301a-4ed0-9e44-0db7d3aadb2b",
   "metadata": {},
   "outputs": [
    {
     "name": "stdout",
     "output_type": "stream",
     "text": [
      "             Age      Marks\n",
      "count   5.000000   5.000000\n",
      "mean   20.400000  83.400000\n",
      "std     1.140175   7.334848\n",
      "min    19.000000  74.000000\n",
      "25%    20.000000  78.000000\n",
      "50%    20.000000  85.000000\n",
      "75%    21.000000  88.000000\n",
      "max    22.000000  92.000000\n"
     ]
    }
   ],
   "source": [
    "print(df.describe())"
   ]
  },
  {
   "cell_type": "code",
   "execution_count": 42,
   "id": "79182963-f92b-48b1-b839-2a8ddc5b1f79",
   "metadata": {},
   "outputs": [],
   "source": [
    "# Add a new column Passed that contains True if Marks >= 80\n",
    "# and False otherwise.\n",
    "df['Passes'] = df['Marks'] >= 80"
   ]
  },
  {
   "cell_type": "code",
   "execution_count": 43,
   "id": "af262250-a4d9-412e-9601-a281846c1efa",
   "metadata": {},
   "outputs": [
    {
     "data": {
      "text/html": [
       "<div>\n",
       "<style scoped>\n",
       "    .dataframe tbody tr th:only-of-type {\n",
       "        vertical-align: middle;\n",
       "    }\n",
       "\n",
       "    .dataframe tbody tr th {\n",
       "        vertical-align: top;\n",
       "    }\n",
       "\n",
       "    .dataframe thead th {\n",
       "        text-align: right;\n",
       "    }\n",
       "</style>\n",
       "<table border=\"1\" class=\"dataframe\">\n",
       "  <thead>\n",
       "    <tr style=\"text-align: right;\">\n",
       "      <th></th>\n",
       "      <th>Name</th>\n",
       "      <th>Age</th>\n",
       "      <th>Gender</th>\n",
       "      <th>Marks</th>\n",
       "      <th>Passes</th>\n",
       "    </tr>\n",
       "  </thead>\n",
       "  <tbody>\n",
       "    <tr>\n",
       "      <th>0</th>\n",
       "      <td>Alice</td>\n",
       "      <td>20</td>\n",
       "      <td>Female</td>\n",
       "      <td>85</td>\n",
       "      <td>True</td>\n",
       "    </tr>\n",
       "    <tr>\n",
       "      <th>1</th>\n",
       "      <td>Bob</td>\n",
       "      <td>22</td>\n",
       "      <td>Male</td>\n",
       "      <td>78</td>\n",
       "      <td>False</td>\n",
       "    </tr>\n",
       "    <tr>\n",
       "      <th>2</th>\n",
       "      <td>Carol</td>\n",
       "      <td>19</td>\n",
       "      <td>Female</td>\n",
       "      <td>92</td>\n",
       "      <td>True</td>\n",
       "    </tr>\n",
       "    <tr>\n",
       "      <th>3</th>\n",
       "      <td>David</td>\n",
       "      <td>21</td>\n",
       "      <td>Male</td>\n",
       "      <td>74</td>\n",
       "      <td>False</td>\n",
       "    </tr>\n",
       "    <tr>\n",
       "      <th>4</th>\n",
       "      <td>Eve</td>\n",
       "      <td>20</td>\n",
       "      <td>Female</td>\n",
       "      <td>88</td>\n",
       "      <td>True</td>\n",
       "    </tr>\n",
       "  </tbody>\n",
       "</table>\n",
       "</div>"
      ],
      "text/plain": [
       "    Name  Age  Gender  Marks  Passes\n",
       "0  Alice   20  Female     85    True\n",
       "1    Bob   22    Male     78   False\n",
       "2  Carol   19  Female     92    True\n",
       "3  David   21    Male     74   False\n",
       "4    Eve   20  Female     88    True"
      ]
     },
     "execution_count": 43,
     "metadata": {},
     "output_type": "execute_result"
    }
   ],
   "source": [
    "df"
   ]
  },
  {
   "cell_type": "code",
   "execution_count": 44,
   "id": "d360855b-b6a5-4d97-aa60-3150c7de1f29",
   "metadata": {},
   "outputs": [],
   "source": [
    "# Task 3: Data Selection and Filtering"
   ]
  },
  {
   "cell_type": "code",
   "execution_count": 45,
   "id": "42f9ce49-b925-4208-9275-1a4148160925",
   "metadata": {},
   "outputs": [
    {
     "name": "stdout",
     "output_type": "stream",
     "text": [
      "    Name  Marks\n",
      "0  Alice     85\n",
      "1    Bob     78\n",
      "2  Carol     92\n",
      "3  David     74\n",
      "4    Eve     88\n"
     ]
    }
   ],
   "source": [
    "# Select and display the Name and Marks columns\n",
    "print(df[['Name','Marks']])"
   ]
  },
  {
   "cell_type": "code",
   "execution_count": 46,
   "id": "8ec6002e-2e22-4cdf-850a-321a13c91082",
   "metadata": {},
   "outputs": [
    {
     "name": "stdout",
     "output_type": "stream",
     "text": [
      "    Name  Age  Gender  Marks  Passes\n",
      "0  Alice   20  Female     85    True\n",
      "2  Carol   19  Female     92    True\n",
      "4    Eve   20  Female     88    True\n"
     ]
    }
   ],
   "source": [
    "#  Filter and display records where Marks > 80\n",
    "print(df[df['Marks'] > 80])"
   ]
  },
  {
   "cell_type": "code",
   "execution_count": 48,
   "id": "01bf3bce-14af-4973-ad9a-b3708aa842df",
   "metadata": {},
   "outputs": [
    {
     "name": "stdout",
     "output_type": "stream",
     "text": [
      "    Name  Age  Gender  Marks  Passes\n",
      "2  Carol   19  Female     92    True\n"
     ]
    }
   ],
   "source": [
    "# Display the record of the student with the highest marks\n",
    "max_mark = df['Marks'].max()\n",
    "print(df[df['Marks'] == max_mark])"
   ]
  },
  {
   "cell_type": "code",
   "execution_count": 49,
   "id": "db960036-b706-4d1e-ad13-241bacc6426e",
   "metadata": {},
   "outputs": [],
   "source": [
    "# Task 4: Handling Missing Data"
   ]
  },
  {
   "cell_type": "code",
   "execution_count": 50,
   "id": "54e29c47-74b2-44b2-96a2-28918423435c",
   "metadata": {},
   "outputs": [],
   "source": [
    "# Introduce missing values\n",
    "df.loc[1,'Marks'] = None\n",
    "df.loc[4,'Age'] = None"
   ]
  },
  {
   "cell_type": "code",
   "execution_count": 51,
   "id": "c1955f5c-faab-4c28-bb1c-b4238e1536e3",
   "metadata": {},
   "outputs": [
    {
     "data": {
      "text/html": [
       "<div>\n",
       "<style scoped>\n",
       "    .dataframe tbody tr th:only-of-type {\n",
       "        vertical-align: middle;\n",
       "    }\n",
       "\n",
       "    .dataframe tbody tr th {\n",
       "        vertical-align: top;\n",
       "    }\n",
       "\n",
       "    .dataframe thead th {\n",
       "        text-align: right;\n",
       "    }\n",
       "</style>\n",
       "<table border=\"1\" class=\"dataframe\">\n",
       "  <thead>\n",
       "    <tr style=\"text-align: right;\">\n",
       "      <th></th>\n",
       "      <th>Name</th>\n",
       "      <th>Age</th>\n",
       "      <th>Gender</th>\n",
       "      <th>Marks</th>\n",
       "      <th>Passes</th>\n",
       "    </tr>\n",
       "  </thead>\n",
       "  <tbody>\n",
       "    <tr>\n",
       "      <th>0</th>\n",
       "      <td>Alice</td>\n",
       "      <td>20.0</td>\n",
       "      <td>Female</td>\n",
       "      <td>85.0</td>\n",
       "      <td>True</td>\n",
       "    </tr>\n",
       "    <tr>\n",
       "      <th>1</th>\n",
       "      <td>Bob</td>\n",
       "      <td>22.0</td>\n",
       "      <td>Male</td>\n",
       "      <td>NaN</td>\n",
       "      <td>False</td>\n",
       "    </tr>\n",
       "    <tr>\n",
       "      <th>2</th>\n",
       "      <td>Carol</td>\n",
       "      <td>19.0</td>\n",
       "      <td>Female</td>\n",
       "      <td>92.0</td>\n",
       "      <td>True</td>\n",
       "    </tr>\n",
       "    <tr>\n",
       "      <th>3</th>\n",
       "      <td>David</td>\n",
       "      <td>21.0</td>\n",
       "      <td>Male</td>\n",
       "      <td>74.0</td>\n",
       "      <td>False</td>\n",
       "    </tr>\n",
       "    <tr>\n",
       "      <th>4</th>\n",
       "      <td>Eve</td>\n",
       "      <td>NaN</td>\n",
       "      <td>Female</td>\n",
       "      <td>88.0</td>\n",
       "      <td>True</td>\n",
       "    </tr>\n",
       "  </tbody>\n",
       "</table>\n",
       "</div>"
      ],
      "text/plain": [
       "    Name   Age  Gender  Marks  Passes\n",
       "0  Alice  20.0  Female   85.0    True\n",
       "1    Bob  22.0    Male    NaN   False\n",
       "2  Carol  19.0  Female   92.0    True\n",
       "3  David  21.0    Male   74.0   False\n",
       "4    Eve   NaN  Female   88.0    True"
      ]
     },
     "execution_count": 51,
     "metadata": {},
     "output_type": "execute_result"
    }
   ],
   "source": [
    "df"
   ]
  },
  {
   "cell_type": "code",
   "execution_count": 52,
   "id": "a5021038-53ed-416c-be6d-c103e0ff67e6",
   "metadata": {},
   "outputs": [
    {
     "name": "stdout",
     "output_type": "stream",
     "text": [
      "    Name    Age  Gender  Marks  Passes\n",
      "0  False  False   False  False   False\n",
      "1  False  False   False   True   False\n",
      "2  False  False   False  False   False\n",
      "3  False  False   False  False   False\n",
      "4  False   True   False  False   False\n"
     ]
    }
   ],
   "source": [
    "# Identify the missing values\n",
    "print(df.isnull())"
   ]
  },
  {
   "cell_type": "code",
   "execution_count": 53,
   "id": "f542f5ee-a298-4db3-9e47-aa655f400ee8",
   "metadata": {},
   "outputs": [
    {
     "name": "stderr",
     "output_type": "stream",
     "text": [
      "C:\\Users\\Asus\\AppData\\Local\\Temp\\ipykernel_14072\\3268350377.py:3: FutureWarning: A value is trying to be set on a copy of a DataFrame or Series through chained assignment using an inplace method.\n",
      "The behavior will change in pandas 3.0. This inplace method will never work because the intermediate object on which we are setting values always behaves as a copy.\n",
      "\n",
      "For example, when doing 'df[col].method(value, inplace=True)', try using 'df.method({col: value}, inplace=True)' or df[col] = df[col].method(value) instead, to perform the operation inplace on the original object.\n",
      "\n",
      "\n",
      "  df['Marks'].fillna(df['Marks'].mean(),inplace = True)\n"
     ]
    }
   ],
   "source": [
    "# Fill missing values in the Marks column with the column's\n",
    "# mean.\n",
    "df['Marks'].fillna(df['Marks'].mean(),inplace = True)"
   ]
  },
  {
   "cell_type": "code",
   "execution_count": 54,
   "id": "79970dc0-bbf2-4a5c-9ff5-f68f0f9a46ee",
   "metadata": {},
   "outputs": [
    {
     "data": {
      "text/html": [
       "<div>\n",
       "<style scoped>\n",
       "    .dataframe tbody tr th:only-of-type {\n",
       "        vertical-align: middle;\n",
       "    }\n",
       "\n",
       "    .dataframe tbody tr th {\n",
       "        vertical-align: top;\n",
       "    }\n",
       "\n",
       "    .dataframe thead th {\n",
       "        text-align: right;\n",
       "    }\n",
       "</style>\n",
       "<table border=\"1\" class=\"dataframe\">\n",
       "  <thead>\n",
       "    <tr style=\"text-align: right;\">\n",
       "      <th></th>\n",
       "      <th>Name</th>\n",
       "      <th>Age</th>\n",
       "      <th>Gender</th>\n",
       "      <th>Marks</th>\n",
       "      <th>Passes</th>\n",
       "    </tr>\n",
       "  </thead>\n",
       "  <tbody>\n",
       "    <tr>\n",
       "      <th>0</th>\n",
       "      <td>Alice</td>\n",
       "      <td>20.0</td>\n",
       "      <td>Female</td>\n",
       "      <td>85.00</td>\n",
       "      <td>True</td>\n",
       "    </tr>\n",
       "    <tr>\n",
       "      <th>1</th>\n",
       "      <td>Bob</td>\n",
       "      <td>22.0</td>\n",
       "      <td>Male</td>\n",
       "      <td>84.75</td>\n",
       "      <td>False</td>\n",
       "    </tr>\n",
       "    <tr>\n",
       "      <th>2</th>\n",
       "      <td>Carol</td>\n",
       "      <td>19.0</td>\n",
       "      <td>Female</td>\n",
       "      <td>92.00</td>\n",
       "      <td>True</td>\n",
       "    </tr>\n",
       "    <tr>\n",
       "      <th>3</th>\n",
       "      <td>David</td>\n",
       "      <td>21.0</td>\n",
       "      <td>Male</td>\n",
       "      <td>74.00</td>\n",
       "      <td>False</td>\n",
       "    </tr>\n",
       "    <tr>\n",
       "      <th>4</th>\n",
       "      <td>Eve</td>\n",
       "      <td>NaN</td>\n",
       "      <td>Female</td>\n",
       "      <td>88.00</td>\n",
       "      <td>True</td>\n",
       "    </tr>\n",
       "  </tbody>\n",
       "</table>\n",
       "</div>"
      ],
      "text/plain": [
       "    Name   Age  Gender  Marks  Passes\n",
       "0  Alice  20.0  Female  85.00    True\n",
       "1    Bob  22.0    Male  84.75   False\n",
       "2  Carol  19.0  Female  92.00    True\n",
       "3  David  21.0    Male  74.00   False\n",
       "4    Eve   NaN  Female  88.00    True"
      ]
     },
     "execution_count": 54,
     "metadata": {},
     "output_type": "execute_result"
    }
   ],
   "source": [
    "df"
   ]
  },
  {
   "cell_type": "code",
   "execution_count": 55,
   "id": "fa7bc261-e5ab-4109-952a-18650922f3c9",
   "metadata": {},
   "outputs": [],
   "source": [
    "# Drop rows where the Age column has missing values.\n",
    "df2 = df.dropna(subset=['Age'])"
   ]
  },
  {
   "cell_type": "code",
   "execution_count": 56,
   "id": "ac586f43-4bd1-49ad-82bb-e6b181781e52",
   "metadata": {},
   "outputs": [
    {
     "data": {
      "text/html": [
       "<div>\n",
       "<style scoped>\n",
       "    .dataframe tbody tr th:only-of-type {\n",
       "        vertical-align: middle;\n",
       "    }\n",
       "\n",
       "    .dataframe tbody tr th {\n",
       "        vertical-align: top;\n",
       "    }\n",
       "\n",
       "    .dataframe thead th {\n",
       "        text-align: right;\n",
       "    }\n",
       "</style>\n",
       "<table border=\"1\" class=\"dataframe\">\n",
       "  <thead>\n",
       "    <tr style=\"text-align: right;\">\n",
       "      <th></th>\n",
       "      <th>Name</th>\n",
       "      <th>Age</th>\n",
       "      <th>Gender</th>\n",
       "      <th>Marks</th>\n",
       "      <th>Passes</th>\n",
       "    </tr>\n",
       "  </thead>\n",
       "  <tbody>\n",
       "    <tr>\n",
       "      <th>0</th>\n",
       "      <td>Alice</td>\n",
       "      <td>20.0</td>\n",
       "      <td>Female</td>\n",
       "      <td>85.00</td>\n",
       "      <td>True</td>\n",
       "    </tr>\n",
       "    <tr>\n",
       "      <th>1</th>\n",
       "      <td>Bob</td>\n",
       "      <td>22.0</td>\n",
       "      <td>Male</td>\n",
       "      <td>84.75</td>\n",
       "      <td>False</td>\n",
       "    </tr>\n",
       "    <tr>\n",
       "      <th>2</th>\n",
       "      <td>Carol</td>\n",
       "      <td>19.0</td>\n",
       "      <td>Female</td>\n",
       "      <td>92.00</td>\n",
       "      <td>True</td>\n",
       "    </tr>\n",
       "    <tr>\n",
       "      <th>3</th>\n",
       "      <td>David</td>\n",
       "      <td>21.0</td>\n",
       "      <td>Male</td>\n",
       "      <td>74.00</td>\n",
       "      <td>False</td>\n",
       "    </tr>\n",
       "  </tbody>\n",
       "</table>\n",
       "</div>"
      ],
      "text/plain": [
       "    Name   Age  Gender  Marks  Passes\n",
       "0  Alice  20.0  Female  85.00    True\n",
       "1    Bob  22.0    Male  84.75   False\n",
       "2  Carol  19.0  Female  92.00    True\n",
       "3  David  21.0    Male  74.00   False"
      ]
     },
     "execution_count": 56,
     "metadata": {},
     "output_type": "execute_result"
    }
   ],
   "source": [
    "df2"
   ]
  },
  {
   "cell_type": "code",
   "execution_count": 57,
   "id": "24745107-f8cf-48a5-a265-2b183df409d9",
   "metadata": {},
   "outputs": [
    {
     "data": {
      "text/html": [
       "<div>\n",
       "<style scoped>\n",
       "    .dataframe tbody tr th:only-of-type {\n",
       "        vertical-align: middle;\n",
       "    }\n",
       "\n",
       "    .dataframe tbody tr th {\n",
       "        vertical-align: top;\n",
       "    }\n",
       "\n",
       "    .dataframe thead th {\n",
       "        text-align: right;\n",
       "    }\n",
       "</style>\n",
       "<table border=\"1\" class=\"dataframe\">\n",
       "  <thead>\n",
       "    <tr style=\"text-align: right;\">\n",
       "      <th></th>\n",
       "      <th>Name</th>\n",
       "      <th>Age</th>\n",
       "      <th>Gender</th>\n",
       "      <th>Marks</th>\n",
       "      <th>Passes</th>\n",
       "    </tr>\n",
       "  </thead>\n",
       "  <tbody>\n",
       "    <tr>\n",
       "      <th>0</th>\n",
       "      <td>Alice</td>\n",
       "      <td>20.0</td>\n",
       "      <td>Female</td>\n",
       "      <td>85.00</td>\n",
       "      <td>True</td>\n",
       "    </tr>\n",
       "    <tr>\n",
       "      <th>1</th>\n",
       "      <td>Bob</td>\n",
       "      <td>22.0</td>\n",
       "      <td>Male</td>\n",
       "      <td>84.75</td>\n",
       "      <td>False</td>\n",
       "    </tr>\n",
       "    <tr>\n",
       "      <th>2</th>\n",
       "      <td>Carol</td>\n",
       "      <td>19.0</td>\n",
       "      <td>Female</td>\n",
       "      <td>92.00</td>\n",
       "      <td>True</td>\n",
       "    </tr>\n",
       "    <tr>\n",
       "      <th>3</th>\n",
       "      <td>David</td>\n",
       "      <td>21.0</td>\n",
       "      <td>Male</td>\n",
       "      <td>74.00</td>\n",
       "      <td>False</td>\n",
       "    </tr>\n",
       "    <tr>\n",
       "      <th>4</th>\n",
       "      <td>Eve</td>\n",
       "      <td>NaN</td>\n",
       "      <td>Female</td>\n",
       "      <td>88.00</td>\n",
       "      <td>True</td>\n",
       "    </tr>\n",
       "  </tbody>\n",
       "</table>\n",
       "</div>"
      ],
      "text/plain": [
       "    Name   Age  Gender  Marks  Passes\n",
       "0  Alice  20.0  Female  85.00    True\n",
       "1    Bob  22.0    Male  84.75   False\n",
       "2  Carol  19.0  Female  92.00    True\n",
       "3  David  21.0    Male  74.00   False\n",
       "4    Eve   NaN  Female  88.00    True"
      ]
     },
     "execution_count": 57,
     "metadata": {},
     "output_type": "execute_result"
    }
   ],
   "source": [
    "df"
   ]
  },
  {
   "cell_type": "code",
   "execution_count": 58,
   "id": "e6530137-04ba-4117-8449-75351135cd76",
   "metadata": {},
   "outputs": [],
   "source": [
    "# Task 5: Grouping and Aggregation"
   ]
  },
  {
   "cell_type": "code",
   "execution_count": 60,
   "id": "b3868782-7f76-4197-88a7-3c663dcca9b9",
   "metadata": {},
   "outputs": [
    {
     "name": "stdout",
     "output_type": "stream",
     "text": [
      "         Age      Marks\n",
      "Gender                 \n",
      "Female  19.5  88.333333\n",
      "Male    21.5  79.375000\n"
     ]
    }
   ],
   "source": [
    "# Group the data by Gender and calculate the mean age and marks\n",
    "print(df.groupby('Gender')[['Age','Marks']].mean())"
   ]
  },
  {
   "cell_type": "code",
   "execution_count": 63,
   "id": "b256e1de-bcb2-4af8-89f5-3b79ef3ddc38",
   "metadata": {},
   "outputs": [
    {
     "name": "stdout",
     "output_type": "stream",
     "text": [
      "Gender\n",
      "Female    3\n",
      "Male      2\n",
      "Name: count, dtype: int64\n"
     ]
    }
   ],
   "source": [
    "# Count the number of students in each gender group.\n",
    "print(df['Gender'].value_counts())"
   ]
  },
  {
   "cell_type": "code",
   "execution_count": 64,
   "id": "eb63bc5c-1dbc-4010-9ae2-34909a1dbcce",
   "metadata": {},
   "outputs": [],
   "source": [
    "# Task 6: Reading and Writing Data"
   ]
  },
  {
   "cell_type": "code",
   "execution_count": 69,
   "id": "608ff752-40b0-4982-9aa4-f8941a1a3d39",
   "metadata": {},
   "outputs": [],
   "source": [
    "# Save the modified DataFrame from Task 4 to a CSV file named\n",
    "# students_data.csv\n",
    "df.to_csv('students_data.csv',index = False)\n",
    "#  index=False ensures the index is not saved as a separate column.\n",
    "# to_csv() saves the DataFrame to a file named students_data.csv in the current working directory"
   ]
  },
  {
   "cell_type": "code",
   "execution_count": 70,
   "id": "a7b4d406-ca78-4b57-8bef-c3105b9aef81",
   "metadata": {},
   "outputs": [],
   "source": [
    "df3 = pd.read_csv('students_data.csv')"
   ]
  },
  {
   "cell_type": "code",
   "execution_count": 71,
   "id": "7647d6fa-2698-46f1-9a0e-21ca705b2c1d",
   "metadata": {},
   "outputs": [
    {
     "data": {
      "text/html": [
       "<div>\n",
       "<style scoped>\n",
       "    .dataframe tbody tr th:only-of-type {\n",
       "        vertical-align: middle;\n",
       "    }\n",
       "\n",
       "    .dataframe tbody tr th {\n",
       "        vertical-align: top;\n",
       "    }\n",
       "\n",
       "    .dataframe thead th {\n",
       "        text-align: right;\n",
       "    }\n",
       "</style>\n",
       "<table border=\"1\" class=\"dataframe\">\n",
       "  <thead>\n",
       "    <tr style=\"text-align: right;\">\n",
       "      <th></th>\n",
       "      <th>Name</th>\n",
       "      <th>Age</th>\n",
       "      <th>Gender</th>\n",
       "      <th>Marks</th>\n",
       "      <th>Passes</th>\n",
       "    </tr>\n",
       "  </thead>\n",
       "  <tbody>\n",
       "    <tr>\n",
       "      <th>0</th>\n",
       "      <td>Alice</td>\n",
       "      <td>20.0</td>\n",
       "      <td>Female</td>\n",
       "      <td>85.00</td>\n",
       "      <td>True</td>\n",
       "    </tr>\n",
       "    <tr>\n",
       "      <th>1</th>\n",
       "      <td>Bob</td>\n",
       "      <td>22.0</td>\n",
       "      <td>Male</td>\n",
       "      <td>84.75</td>\n",
       "      <td>False</td>\n",
       "    </tr>\n",
       "    <tr>\n",
       "      <th>2</th>\n",
       "      <td>Carol</td>\n",
       "      <td>19.0</td>\n",
       "      <td>Female</td>\n",
       "      <td>92.00</td>\n",
       "      <td>True</td>\n",
       "    </tr>\n",
       "    <tr>\n",
       "      <th>3</th>\n",
       "      <td>David</td>\n",
       "      <td>21.0</td>\n",
       "      <td>Male</td>\n",
       "      <td>74.00</td>\n",
       "      <td>False</td>\n",
       "    </tr>\n",
       "    <tr>\n",
       "      <th>4</th>\n",
       "      <td>Eve</td>\n",
       "      <td>NaN</td>\n",
       "      <td>Female</td>\n",
       "      <td>88.00</td>\n",
       "      <td>True</td>\n",
       "    </tr>\n",
       "  </tbody>\n",
       "</table>\n",
       "</div>"
      ],
      "text/plain": [
       "    Name   Age  Gender  Marks  Passes\n",
       "0  Alice  20.0  Female  85.00    True\n",
       "1    Bob  22.0    Male  84.75   False\n",
       "2  Carol  19.0  Female  92.00    True\n",
       "3  David  21.0    Male  74.00   False\n",
       "4    Eve   NaN  Female  88.00    True"
      ]
     },
     "execution_count": 71,
     "metadata": {},
     "output_type": "execute_result"
    }
   ],
   "source": [
    "df3"
   ]
  },
  {
   "cell_type": "code",
   "execution_count": 72,
   "id": "3f5acde0-1140-4c27-a038-0b602c9d794e",
   "metadata": {},
   "outputs": [
    {
     "data": {
      "text/html": [
       "<div>\n",
       "<style scoped>\n",
       "    .dataframe tbody tr th:only-of-type {\n",
       "        vertical-align: middle;\n",
       "    }\n",
       "\n",
       "    .dataframe tbody tr th {\n",
       "        vertical-align: top;\n",
       "    }\n",
       "\n",
       "    .dataframe thead th {\n",
       "        text-align: right;\n",
       "    }\n",
       "</style>\n",
       "<table border=\"1\" class=\"dataframe\">\n",
       "  <thead>\n",
       "    <tr style=\"text-align: right;\">\n",
       "      <th></th>\n",
       "      <th>Name</th>\n",
       "      <th>Age</th>\n",
       "      <th>Gender</th>\n",
       "      <th>Marks</th>\n",
       "      <th>Passes</th>\n",
       "    </tr>\n",
       "  </thead>\n",
       "  <tbody>\n",
       "    <tr>\n",
       "      <th>0</th>\n",
       "      <td>Alice</td>\n",
       "      <td>20.0</td>\n",
       "      <td>Female</td>\n",
       "      <td>85.00</td>\n",
       "      <td>True</td>\n",
       "    </tr>\n",
       "    <tr>\n",
       "      <th>1</th>\n",
       "      <td>Bob</td>\n",
       "      <td>22.0</td>\n",
       "      <td>Male</td>\n",
       "      <td>84.75</td>\n",
       "      <td>False</td>\n",
       "    </tr>\n",
       "    <tr>\n",
       "      <th>2</th>\n",
       "      <td>Carol</td>\n",
       "      <td>19.0</td>\n",
       "      <td>Female</td>\n",
       "      <td>92.00</td>\n",
       "      <td>True</td>\n",
       "    </tr>\n",
       "    <tr>\n",
       "      <th>3</th>\n",
       "      <td>David</td>\n",
       "      <td>21.0</td>\n",
       "      <td>Male</td>\n",
       "      <td>74.00</td>\n",
       "      <td>False</td>\n",
       "    </tr>\n",
       "    <tr>\n",
       "      <th>4</th>\n",
       "      <td>Eve</td>\n",
       "      <td>NaN</td>\n",
       "      <td>Female</td>\n",
       "      <td>88.00</td>\n",
       "      <td>True</td>\n",
       "    </tr>\n",
       "  </tbody>\n",
       "</table>\n",
       "</div>"
      ],
      "text/plain": [
       "    Name   Age  Gender  Marks  Passes\n",
       "0  Alice  20.0  Female  85.00    True\n",
       "1    Bob  22.0    Male  84.75   False\n",
       "2  Carol  19.0  Female  92.00    True\n",
       "3  David  21.0    Male  74.00   False\n",
       "4    Eve   NaN  Female  88.00    True"
      ]
     },
     "execution_count": 72,
     "metadata": {},
     "output_type": "execute_result"
    }
   ],
   "source": [
    "df3.head()"
   ]
  },
  {
   "cell_type": "code",
   "execution_count": 73,
   "id": "6b7b2008-501b-4984-9eb1-eb2fc6be2776",
   "metadata": {},
   "outputs": [],
   "source": [
    "# Task 7: General"
   ]
  },
  {
   "cell_type": "code",
   "execution_count": 74,
   "id": "0aa84d7d-bc86-4809-8a61-291e9c0a5e7f",
   "metadata": {},
   "outputs": [],
   "source": [
    "# Load the dataset using Pandas.\n",
    "df = pd.read_csv('house_prices.csv')"
   ]
  },
  {
   "cell_type": "code",
   "execution_count": 75,
   "id": "0d3dcb42-517f-4e03-aa2d-f280abebbfc3",
   "metadata": {},
   "outputs": [
    {
     "data": {
      "text/html": [
       "<div>\n",
       "<style scoped>\n",
       "    .dataframe tbody tr th:only-of-type {\n",
       "        vertical-align: middle;\n",
       "    }\n",
       "\n",
       "    .dataframe tbody tr th {\n",
       "        vertical-align: top;\n",
       "    }\n",
       "\n",
       "    .dataframe thead th {\n",
       "        text-align: right;\n",
       "    }\n",
       "</style>\n",
       "<table border=\"1\" class=\"dataframe\">\n",
       "  <thead>\n",
       "    <tr style=\"text-align: right;\">\n",
       "      <th></th>\n",
       "      <th>Index</th>\n",
       "      <th>Title</th>\n",
       "      <th>Description</th>\n",
       "      <th>Amount(in rupees)</th>\n",
       "      <th>Price (in rupees)</th>\n",
       "      <th>location</th>\n",
       "      <th>Carpet Area</th>\n",
       "      <th>Status</th>\n",
       "      <th>Floor</th>\n",
       "      <th>Transaction</th>\n",
       "      <th>...</th>\n",
       "      <th>facing</th>\n",
       "      <th>overlooking</th>\n",
       "      <th>Society</th>\n",
       "      <th>Bathroom</th>\n",
       "      <th>Balcony</th>\n",
       "      <th>Car Parking</th>\n",
       "      <th>Ownership</th>\n",
       "      <th>Super Area</th>\n",
       "      <th>Dimensions</th>\n",
       "      <th>Plot Area</th>\n",
       "    </tr>\n",
       "  </thead>\n",
       "  <tbody>\n",
       "    <tr>\n",
       "      <th>0</th>\n",
       "      <td>0</td>\n",
       "      <td>1 BHK Ready to Occupy Flat for sale in Srushti...</td>\n",
       "      <td>Bhiwandi, Thane has an attractive 1 BHK Flat f...</td>\n",
       "      <td>42 Lac</td>\n",
       "      <td>6000.0</td>\n",
       "      <td>thane</td>\n",
       "      <td>500 sqft</td>\n",
       "      <td>Ready to Move</td>\n",
       "      <td>10 out of 11</td>\n",
       "      <td>Resale</td>\n",
       "      <td>...</td>\n",
       "      <td>NaN</td>\n",
       "      <td>NaN</td>\n",
       "      <td>Srushti Siddhi Mangal Murti Complex</td>\n",
       "      <td>1</td>\n",
       "      <td>2</td>\n",
       "      <td>NaN</td>\n",
       "      <td>NaN</td>\n",
       "      <td>NaN</td>\n",
       "      <td>NaN</td>\n",
       "      <td>NaN</td>\n",
       "    </tr>\n",
       "    <tr>\n",
       "      <th>1</th>\n",
       "      <td>1</td>\n",
       "      <td>2 BHK Ready to Occupy Flat for sale in Dosti V...</td>\n",
       "      <td>One can find this stunning 2 BHK flat for sale...</td>\n",
       "      <td>98 Lac</td>\n",
       "      <td>13799.0</td>\n",
       "      <td>thane</td>\n",
       "      <td>473 sqft</td>\n",
       "      <td>Ready to Move</td>\n",
       "      <td>3 out of 22</td>\n",
       "      <td>Resale</td>\n",
       "      <td>...</td>\n",
       "      <td>East</td>\n",
       "      <td>Garden/Park</td>\n",
       "      <td>Dosti Vihar</td>\n",
       "      <td>2</td>\n",
       "      <td>NaN</td>\n",
       "      <td>1 Open</td>\n",
       "      <td>Freehold</td>\n",
       "      <td>NaN</td>\n",
       "      <td>NaN</td>\n",
       "      <td>NaN</td>\n",
       "    </tr>\n",
       "    <tr>\n",
       "      <th>2</th>\n",
       "      <td>2</td>\n",
       "      <td>2 BHK Ready to Occupy Flat for sale in Sunrise...</td>\n",
       "      <td>Up for immediate sale is a 2 BHK apartment in ...</td>\n",
       "      <td>1.40 Cr</td>\n",
       "      <td>17500.0</td>\n",
       "      <td>thane</td>\n",
       "      <td>779 sqft</td>\n",
       "      <td>Ready to Move</td>\n",
       "      <td>10 out of 29</td>\n",
       "      <td>Resale</td>\n",
       "      <td>...</td>\n",
       "      <td>East</td>\n",
       "      <td>Garden/Park</td>\n",
       "      <td>Sunrise by Kalpataru</td>\n",
       "      <td>2</td>\n",
       "      <td>NaN</td>\n",
       "      <td>1 Covered</td>\n",
       "      <td>Freehold</td>\n",
       "      <td>NaN</td>\n",
       "      <td>NaN</td>\n",
       "      <td>NaN</td>\n",
       "    </tr>\n",
       "    <tr>\n",
       "      <th>3</th>\n",
       "      <td>3</td>\n",
       "      <td>1 BHK Ready to Occupy Flat for sale Kasheli</td>\n",
       "      <td>This beautiful 1 BHK Flat is available for sal...</td>\n",
       "      <td>25 Lac</td>\n",
       "      <td>NaN</td>\n",
       "      <td>thane</td>\n",
       "      <td>530 sqft</td>\n",
       "      <td>Ready to Move</td>\n",
       "      <td>1 out of 3</td>\n",
       "      <td>Resale</td>\n",
       "      <td>...</td>\n",
       "      <td>NaN</td>\n",
       "      <td>NaN</td>\n",
       "      <td>NaN</td>\n",
       "      <td>1</td>\n",
       "      <td>1</td>\n",
       "      <td>NaN</td>\n",
       "      <td>NaN</td>\n",
       "      <td>NaN</td>\n",
       "      <td>NaN</td>\n",
       "      <td>NaN</td>\n",
       "    </tr>\n",
       "    <tr>\n",
       "      <th>4</th>\n",
       "      <td>4</td>\n",
       "      <td>2 BHK Ready to Occupy Flat for sale in TenX Ha...</td>\n",
       "      <td>This lovely 2 BHK Flat in Pokhran Road, Thane ...</td>\n",
       "      <td>1.60 Cr</td>\n",
       "      <td>18824.0</td>\n",
       "      <td>thane</td>\n",
       "      <td>635 sqft</td>\n",
       "      <td>Ready to Move</td>\n",
       "      <td>20 out of 42</td>\n",
       "      <td>Resale</td>\n",
       "      <td>...</td>\n",
       "      <td>West</td>\n",
       "      <td>Garden/Park, Main Road</td>\n",
       "      <td>TenX Habitat Raymond Realty</td>\n",
       "      <td>2</td>\n",
       "      <td>NaN</td>\n",
       "      <td>1 Covered</td>\n",
       "      <td>Co-operative Society</td>\n",
       "      <td>NaN</td>\n",
       "      <td>NaN</td>\n",
       "      <td>NaN</td>\n",
       "    </tr>\n",
       "    <tr>\n",
       "      <th>...</th>\n",
       "      <td>...</td>\n",
       "      <td>...</td>\n",
       "      <td>...</td>\n",
       "      <td>...</td>\n",
       "      <td>...</td>\n",
       "      <td>...</td>\n",
       "      <td>...</td>\n",
       "      <td>...</td>\n",
       "      <td>...</td>\n",
       "      <td>...</td>\n",
       "      <td>...</td>\n",
       "      <td>...</td>\n",
       "      <td>...</td>\n",
       "      <td>...</td>\n",
       "      <td>...</td>\n",
       "      <td>...</td>\n",
       "      <td>...</td>\n",
       "      <td>...</td>\n",
       "      <td>...</td>\n",
       "      <td>...</td>\n",
       "      <td>...</td>\n",
       "    </tr>\n",
       "    <tr>\n",
       "      <th>187526</th>\n",
       "      <td>187526</td>\n",
       "      <td>3 BHK Ready to Occupy Flat for sale in Bollywo...</td>\n",
       "      <td>This magnificent 3 BHK Flat is available for s...</td>\n",
       "      <td>63 Lac</td>\n",
       "      <td>3225.0</td>\n",
       "      <td>zirakpur</td>\n",
       "      <td>NaN</td>\n",
       "      <td>Ready to Move</td>\n",
       "      <td>2 out of 4</td>\n",
       "      <td>New Property</td>\n",
       "      <td>...</td>\n",
       "      <td>East</td>\n",
       "      <td>Garden/Park</td>\n",
       "      <td>Bollywood Esencia</td>\n",
       "      <td>3</td>\n",
       "      <td>3</td>\n",
       "      <td>1 Covered</td>\n",
       "      <td>Freehold</td>\n",
       "      <td>1953 sqft</td>\n",
       "      <td>NaN</td>\n",
       "      <td>NaN</td>\n",
       "    </tr>\n",
       "    <tr>\n",
       "      <th>187527</th>\n",
       "      <td>187527</td>\n",
       "      <td>3 BHK Ready to Occupy Flat for sale in Sushma ...</td>\n",
       "      <td>Have a look at this immaculate 3 BHK flat for ...</td>\n",
       "      <td>55 Lac</td>\n",
       "      <td>3274.0</td>\n",
       "      <td>zirakpur</td>\n",
       "      <td>NaN</td>\n",
       "      <td>Ready to Move</td>\n",
       "      <td>4 out of 6</td>\n",
       "      <td>Resale</td>\n",
       "      <td>...</td>\n",
       "      <td>North - East</td>\n",
       "      <td>Garden/Park, Main Road</td>\n",
       "      <td>Sushma Urban Views</td>\n",
       "      <td>3</td>\n",
       "      <td>NaN</td>\n",
       "      <td>1 Covered</td>\n",
       "      <td>NaN</td>\n",
       "      <td>1680 sqft</td>\n",
       "      <td>NaN</td>\n",
       "      <td>NaN</td>\n",
       "    </tr>\n",
       "    <tr>\n",
       "      <th>187528</th>\n",
       "      <td>187528</td>\n",
       "      <td>3 BHK Ready to Occupy Flat for sale in Bollywo...</td>\n",
       "      <td>Gazipur, Zirakpur has an appealing 3 BHK flat ...</td>\n",
       "      <td>76 Lac</td>\n",
       "      <td>4343.0</td>\n",
       "      <td>zirakpur</td>\n",
       "      <td>1250 sqft</td>\n",
       "      <td>Ready to Move</td>\n",
       "      <td>1 out of 3</td>\n",
       "      <td>Resale</td>\n",
       "      <td>...</td>\n",
       "      <td>East</td>\n",
       "      <td>Garden/Park, Main Road</td>\n",
       "      <td>Bollywood Esencia</td>\n",
       "      <td>3</td>\n",
       "      <td>2</td>\n",
       "      <td>1 Covered,</td>\n",
       "      <td>Freehold</td>\n",
       "      <td>NaN</td>\n",
       "      <td>NaN</td>\n",
       "      <td>NaN</td>\n",
       "    </tr>\n",
       "    <tr>\n",
       "      <th>187529</th>\n",
       "      <td>187529</td>\n",
       "      <td>2 BHK Ready to Occupy Flat for sale in Friends...</td>\n",
       "      <td>Up for immediate sale is a 2 BHK apartment in ...</td>\n",
       "      <td>30 Lac</td>\n",
       "      <td>4231.0</td>\n",
       "      <td>zirakpur</td>\n",
       "      <td>NaN</td>\n",
       "      <td>Ready to Move</td>\n",
       "      <td>2 out of 2</td>\n",
       "      <td>Resale</td>\n",
       "      <td>...</td>\n",
       "      <td>NaN</td>\n",
       "      <td>Main Road</td>\n",
       "      <td>Friends Enclave</td>\n",
       "      <td>2</td>\n",
       "      <td>NaN</td>\n",
       "      <td>NaN</td>\n",
       "      <td>NaN</td>\n",
       "      <td>709 sqft</td>\n",
       "      <td>NaN</td>\n",
       "      <td>NaN</td>\n",
       "    </tr>\n",
       "    <tr>\n",
       "      <th>187530</th>\n",
       "      <td>187530</td>\n",
       "      <td>3 BHK Ready to Occupy Flat for sale in Affinit...</td>\n",
       "      <td>This exquisite 3 BHK Flat is offered for sale ...</td>\n",
       "      <td>1.18 Cr</td>\n",
       "      <td>6162.0</td>\n",
       "      <td>zirakpur</td>\n",
       "      <td>NaN</td>\n",
       "      <td>Ready to Move</td>\n",
       "      <td>5 out of 13</td>\n",
       "      <td>Resale</td>\n",
       "      <td>...</td>\n",
       "      <td>North - East</td>\n",
       "      <td>Garden/Park, Pool</td>\n",
       "      <td>Affinity Greens</td>\n",
       "      <td>4</td>\n",
       "      <td>4</td>\n",
       "      <td>1 Covered</td>\n",
       "      <td>Freehold</td>\n",
       "      <td>1915 sqft</td>\n",
       "      <td>NaN</td>\n",
       "      <td>NaN</td>\n",
       "    </tr>\n",
       "  </tbody>\n",
       "</table>\n",
       "<p>187531 rows × 21 columns</p>\n",
       "</div>"
      ],
      "text/plain": [
       "         Index                                              Title  \\\n",
       "0            0  1 BHK Ready to Occupy Flat for sale in Srushti...   \n",
       "1            1  2 BHK Ready to Occupy Flat for sale in Dosti V...   \n",
       "2            2  2 BHK Ready to Occupy Flat for sale in Sunrise...   \n",
       "3            3        1 BHK Ready to Occupy Flat for sale Kasheli   \n",
       "4            4  2 BHK Ready to Occupy Flat for sale in TenX Ha...   \n",
       "...        ...                                                ...   \n",
       "187526  187526  3 BHK Ready to Occupy Flat for sale in Bollywo...   \n",
       "187527  187527  3 BHK Ready to Occupy Flat for sale in Sushma ...   \n",
       "187528  187528  3 BHK Ready to Occupy Flat for sale in Bollywo...   \n",
       "187529  187529  2 BHK Ready to Occupy Flat for sale in Friends...   \n",
       "187530  187530  3 BHK Ready to Occupy Flat for sale in Affinit...   \n",
       "\n",
       "                                              Description Amount(in rupees)  \\\n",
       "0       Bhiwandi, Thane has an attractive 1 BHK Flat f...           42 Lac    \n",
       "1       One can find this stunning 2 BHK flat for sale...           98 Lac    \n",
       "2       Up for immediate sale is a 2 BHK apartment in ...          1.40 Cr    \n",
       "3       This beautiful 1 BHK Flat is available for sal...           25 Lac    \n",
       "4       This lovely 2 BHK Flat in Pokhran Road, Thane ...          1.60 Cr    \n",
       "...                                                   ...               ...   \n",
       "187526  This magnificent 3 BHK Flat is available for s...           63 Lac    \n",
       "187527  Have a look at this immaculate 3 BHK flat for ...           55 Lac    \n",
       "187528  Gazipur, Zirakpur has an appealing 3 BHK flat ...           76 Lac    \n",
       "187529  Up for immediate sale is a 2 BHK apartment in ...           30 Lac    \n",
       "187530  This exquisite 3 BHK Flat is offered for sale ...          1.18 Cr    \n",
       "\n",
       "        Price (in rupees)  location Carpet Area         Status         Floor  \\\n",
       "0                  6000.0     thane    500 sqft  Ready to Move  10 out of 11   \n",
       "1                 13799.0     thane    473 sqft  Ready to Move   3 out of 22   \n",
       "2                 17500.0     thane    779 sqft  Ready to Move  10 out of 29   \n",
       "3                     NaN     thane    530 sqft  Ready to Move    1 out of 3   \n",
       "4                 18824.0     thane    635 sqft  Ready to Move  20 out of 42   \n",
       "...                   ...       ...         ...            ...           ...   \n",
       "187526             3225.0  zirakpur         NaN  Ready to Move    2 out of 4   \n",
       "187527             3274.0  zirakpur         NaN  Ready to Move    4 out of 6   \n",
       "187528             4343.0  zirakpur   1250 sqft  Ready to Move    1 out of 3   \n",
       "187529             4231.0  zirakpur         NaN  Ready to Move    2 out of 2   \n",
       "187530             6162.0  zirakpur         NaN  Ready to Move   5 out of 13   \n",
       "\n",
       "         Transaction  ...        facing             overlooking  \\\n",
       "0             Resale  ...           NaN                     NaN   \n",
       "1             Resale  ...          East             Garden/Park   \n",
       "2             Resale  ...          East             Garden/Park   \n",
       "3             Resale  ...           NaN                     NaN   \n",
       "4             Resale  ...          West  Garden/Park, Main Road   \n",
       "...              ...  ...           ...                     ...   \n",
       "187526  New Property  ...          East             Garden/Park   \n",
       "187527        Resale  ...  North - East  Garden/Park, Main Road   \n",
       "187528        Resale  ...          East  Garden/Park, Main Road   \n",
       "187529        Resale  ...           NaN               Main Road   \n",
       "187530        Resale  ...  North - East       Garden/Park, Pool   \n",
       "\n",
       "                                    Society Bathroom Balcony Car Parking  \\\n",
       "0       Srushti Siddhi Mangal Murti Complex        1       2         NaN   \n",
       "1                               Dosti Vihar        2     NaN      1 Open   \n",
       "2                      Sunrise by Kalpataru        2     NaN   1 Covered   \n",
       "3                                       NaN        1       1         NaN   \n",
       "4               TenX Habitat Raymond Realty        2     NaN   1 Covered   \n",
       "...                                     ...      ...     ...         ...   \n",
       "187526                    Bollywood Esencia        3       3   1 Covered   \n",
       "187527                   Sushma Urban Views        3     NaN   1 Covered   \n",
       "187528                    Bollywood Esencia        3       2  1 Covered,   \n",
       "187529                      Friends Enclave        2     NaN         NaN   \n",
       "187530                      Affinity Greens        4       4   1 Covered   \n",
       "\n",
       "                   Ownership Super Area Dimensions  Plot Area  \n",
       "0                        NaN        NaN        NaN        NaN  \n",
       "1                   Freehold        NaN        NaN        NaN  \n",
       "2                   Freehold        NaN        NaN        NaN  \n",
       "3                        NaN        NaN        NaN        NaN  \n",
       "4       Co-operative Society        NaN        NaN        NaN  \n",
       "...                      ...        ...        ...        ...  \n",
       "187526              Freehold  1953 sqft        NaN        NaN  \n",
       "187527                   NaN  1680 sqft        NaN        NaN  \n",
       "187528              Freehold        NaN        NaN        NaN  \n",
       "187529                   NaN   709 sqft        NaN        NaN  \n",
       "187530              Freehold  1915 sqft        NaN        NaN  \n",
       "\n",
       "[187531 rows x 21 columns]"
      ]
     },
     "execution_count": 75,
     "metadata": {},
     "output_type": "execute_result"
    }
   ],
   "source": [
    "df"
   ]
  },
  {
   "cell_type": "code",
   "execution_count": 76,
   "id": "d6eb6e62-dfd7-40d2-99a2-49d718324b66",
   "metadata": {},
   "outputs": [],
   "source": [
    "# Perform exploratory data analysis (EDA) by summarizing key\n",
    "# statistics, checking for missing values, and visualizing data\n",
    "# trends using Matplotlib or Seaborn.\n",
    "import seaborn as sns\n",
    "import matplotlib.pyplot as plt"
   ]
  },
  {
   "cell_type": "code",
   "execution_count": 80,
   "id": "a8a57d37-ad56-4f72-8d81-c8ee9c4fbcea",
   "metadata": {},
   "outputs": [
    {
     "name": "stdout",
     "output_type": "stream",
     "text": [
      "   Index                                              Title  \\\n",
      "0      0  1 BHK Ready to Occupy Flat for sale in Srushti...   \n",
      "1      1  2 BHK Ready to Occupy Flat for sale in Dosti V...   \n",
      "2      2  2 BHK Ready to Occupy Flat for sale in Sunrise...   \n",
      "3      3        1 BHK Ready to Occupy Flat for sale Kasheli   \n",
      "4      4  2 BHK Ready to Occupy Flat for sale in TenX Ha...   \n",
      "\n",
      "                                         Description Amount(in rupees)  \\\n",
      "0  Bhiwandi, Thane has an attractive 1 BHK Flat f...           42 Lac    \n",
      "1  One can find this stunning 2 BHK flat for sale...           98 Lac    \n",
      "2  Up for immediate sale is a 2 BHK apartment in ...          1.40 Cr    \n",
      "3  This beautiful 1 BHK Flat is available for sal...           25 Lac    \n",
      "4  This lovely 2 BHK Flat in Pokhran Road, Thane ...          1.60 Cr    \n",
      "\n",
      "   Price (in rupees) location Carpet Area         Status         Floor  \\\n",
      "0             6000.0    thane    500 sqft  Ready to Move  10 out of 11   \n",
      "1            13799.0    thane    473 sqft  Ready to Move   3 out of 22   \n",
      "2            17500.0    thane    779 sqft  Ready to Move  10 out of 29   \n",
      "3                NaN    thane    530 sqft  Ready to Move    1 out of 3   \n",
      "4            18824.0    thane    635 sqft  Ready to Move  20 out of 42   \n",
      "\n",
      "  Transaction  ... facing             overlooking  \\\n",
      "0      Resale  ...    NaN                     NaN   \n",
      "1      Resale  ...   East             Garden/Park   \n",
      "2      Resale  ...   East             Garden/Park   \n",
      "3      Resale  ...    NaN                     NaN   \n",
      "4      Resale  ...   West  Garden/Park, Main Road   \n",
      "\n",
      "                               Society Bathroom Balcony Car Parking  \\\n",
      "0  Srushti Siddhi Mangal Murti Complex        1       2         NaN   \n",
      "1                          Dosti Vihar        2     NaN      1 Open   \n",
      "2                 Sunrise by Kalpataru        2     NaN   1 Covered   \n",
      "3                                  NaN        1       1         NaN   \n",
      "4          TenX Habitat Raymond Realty        2     NaN   1 Covered   \n",
      "\n",
      "              Ownership Super Area Dimensions  Plot Area  \n",
      "0                   NaN        NaN        NaN        NaN  \n",
      "1              Freehold        NaN        NaN        NaN  \n",
      "2              Freehold        NaN        NaN        NaN  \n",
      "3                   NaN        NaN        NaN        NaN  \n",
      "4  Co-operative Society        NaN        NaN        NaN  \n",
      "\n",
      "[5 rows x 21 columns]\n"
     ]
    }
   ],
   "source": [
    "# Display the first few rows\n",
    "print(df.head())"
   ]
  },
  {
   "cell_type": "code",
   "execution_count": 82,
   "id": "28f67bf0-9a6b-416c-a7cd-425d04db9c22",
   "metadata": {},
   "outputs": [
    {
     "name": "stdout",
     "output_type": "stream",
     "text": [
      "                Index                                              Title  \\\n",
      "count   187531.000000                                             187531   \n",
      "unique            NaN                                              32446   \n",
      "top               NaN  2 BHK Ready to Occupy Flat for sale in Divyasr...   \n",
      "freq              NaN                                               2106   \n",
      "mean     93765.000000                                                NaN   \n",
      "std      54135.681003                                                NaN   \n",
      "min          0.000000                                                NaN   \n",
      "25%      46882.500000                                                NaN   \n",
      "50%      93765.000000                                                NaN   \n",
      "75%     140647.500000                                                NaN   \n",
      "max     187530.000000                                                NaN   \n",
      "\n",
      "                                              Description Amount(in rupees)  \\\n",
      "count                                              184508            187531   \n",
      "unique                                              65634              1561   \n",
      "top     Multistorey apartment is available for sale. I...    Call for Price   \n",
      "freq                                                 2732              9684   \n",
      "mean                                                  NaN               NaN   \n",
      "std                                                   NaN               NaN   \n",
      "min                                                   NaN               NaN   \n",
      "25%                                                   NaN               NaN   \n",
      "50%                                                   NaN               NaN   \n",
      "75%                                                   NaN               NaN   \n",
      "max                                                   NaN               NaN   \n",
      "\n",
      "        Price (in rupees)   location Carpet Area         Status       Floor  \\\n",
      "count        1.698660e+05     187531      106858         186916      180454   \n",
      "unique                NaN         81        2758              1         947   \n",
      "top                   NaN  new-delhi   1000 sqft  Ready to Move  2 out of 4   \n",
      "freq                  NaN      27599        5285         186916       12433   \n",
      "mean         7.583772e+03        NaN         NaN            NaN         NaN   \n",
      "std          2.724171e+04        NaN         NaN            NaN         NaN   \n",
      "min          0.000000e+00        NaN         NaN            NaN         NaN   \n",
      "25%          4.297000e+03        NaN         NaN            NaN         NaN   \n",
      "50%          6.034000e+03        NaN         NaN            NaN         NaN   \n",
      "75%          9.450000e+03        NaN         NaN            NaN         NaN   \n",
      "max          6.700000e+06        NaN         NaN            NaN         NaN   \n",
      "\n",
      "       Transaction  ...  facing overlooking           Society Bathroom  \\\n",
      "count       187448  ...  117298      106095             77853   186703   \n",
      "unique           4  ...       8          19             10376       11   \n",
      "top         Resale  ...    East   Main Road  Hamdam Apartment        2   \n",
      "freq        144172  ...   54741       32193              1648    93007   \n",
      "mean           NaN  ...     NaN         NaN               NaN      NaN   \n",
      "std            NaN  ...     NaN         NaN               NaN      NaN   \n",
      "min            NaN  ...     NaN         NaN               NaN      NaN   \n",
      "25%            NaN  ...     NaN         NaN               NaN      NaN   \n",
      "50%            NaN  ...     NaN         NaN               NaN      NaN   \n",
      "75%            NaN  ...     NaN         NaN               NaN      NaN   \n",
      "max            NaN  ...     NaN         NaN               NaN      NaN   \n",
      "\n",
      "       Balcony Car Parking Ownership Super Area Dimensions  Plot Area  \n",
      "count   138596       84174    122014      79846        0.0        0.0  \n",
      "unique      11         229         4       2976        NaN        NaN  \n",
      "top          2   1 Covered  Freehold  1100 sqft        NaN        NaN  \n",
      "freq     51809       38754    112229       2599        NaN        NaN  \n",
      "mean       NaN         NaN       NaN        NaN        NaN        NaN  \n",
      "std        NaN         NaN       NaN        NaN        NaN        NaN  \n",
      "min        NaN         NaN       NaN        NaN        NaN        NaN  \n",
      "25%        NaN         NaN       NaN        NaN        NaN        NaN  \n",
      "50%        NaN         NaN       NaN        NaN        NaN        NaN  \n",
      "75%        NaN         NaN       NaN        NaN        NaN        NaN  \n",
      "max        NaN         NaN       NaN        NaN        NaN        NaN  \n",
      "\n",
      "[11 rows x 21 columns]\n"
     ]
    }
   ],
   "source": [
    "#  Summary statistics \n",
    "print(df.describe(include='all'))"
   ]
  },
  {
   "cell_type": "code",
   "execution_count": 86,
   "id": "345d12e5-2f40-468c-8698-d4a5e6553926",
   "metadata": {},
   "outputs": [
    {
     "name": "stdout",
     "output_type": "stream",
     "text": [
      "Index                     0\n",
      "Title                     0\n",
      "Description            3023\n",
      "Amount(in rupees)         0\n",
      "Price (in rupees)     17665\n",
      "location                  0\n",
      "Carpet Area           80673\n",
      "Status                  615\n",
      "Floor                  7077\n",
      "Transaction              83\n",
      "Furnishing             2897\n",
      "facing                70233\n",
      "overlooking           81436\n",
      "Society              109678\n",
      "Bathroom                828\n",
      "Balcony               48935\n",
      "Car Parking          103357\n",
      "Ownership             65517\n",
      "Super Area           107685\n",
      "Dimensions           187531\n",
      "Plot Area            187531\n",
      "dtype: int64\n"
     ]
    }
   ],
   "source": [
    " # Summary statistics\n",
    "print(df.isnull().sum())"
   ]
  },
  {
   "cell_type": "code",
   "execution_count": 84,
   "id": "a42d8f24-a250-42d4-887c-d7e88e69a479",
   "metadata": {},
   "outputs": [
    {
     "name": "stdout",
     "output_type": "stream",
     "text": [
      "<class 'pandas.core.frame.DataFrame'>\n",
      "RangeIndex: 187531 entries, 0 to 187530\n",
      "Data columns (total 21 columns):\n",
      " #   Column             Non-Null Count   Dtype  \n",
      "---  ------             --------------   -----  \n",
      " 0   Index              187531 non-null  int64  \n",
      " 1   Title              187531 non-null  object \n",
      " 2   Description        184508 non-null  object \n",
      " 3   Amount(in rupees)  187531 non-null  object \n",
      " 4   Price (in rupees)  169866 non-null  float64\n",
      " 5   location           187531 non-null  object \n",
      " 6   Carpet Area        106858 non-null  object \n",
      " 7   Status             186916 non-null  object \n",
      " 8   Floor              180454 non-null  object \n",
      " 9   Transaction        187448 non-null  object \n",
      " 10  Furnishing         184634 non-null  object \n",
      " 11  facing             117298 non-null  object \n",
      " 12  overlooking        106095 non-null  object \n",
      " 13  Society            77853 non-null   object \n",
      " 14  Bathroom           186703 non-null  object \n",
      " 15  Balcony            138596 non-null  object \n",
      " 16  Car Parking        84174 non-null   object \n",
      " 17  Ownership          122014 non-null  object \n",
      " 18  Super Area         79846 non-null   object \n",
      " 19  Dimensions         0 non-null       float64\n",
      " 20  Plot Area          0 non-null       float64\n",
      "dtypes: float64(3), int64(1), object(17)\n",
      "memory usage: 30.0+ MB\n",
      "None\n"
     ]
    }
   ],
   "source": [
    "# data type and basic info\n",
    "print(df.info())"
   ]
  },
  {
   "cell_type": "code",
   "execution_count": 87,
   "id": "63f19ae6-c12b-4581-95ae-bd93014a0b12",
   "metadata": {},
   "outputs": [],
   "source": [
    "# visualizing_data"
   ]
  },
  {
   "cell_type": "code",
   "execution_count": 95,
   "id": "60fded44-3d92-49af-8867-04c33e0f7182",
   "metadata": {},
   "outputs": [
    {
     "name": "stderr",
     "output_type": "stream",
     "text": [
      "C:\\Users\\Asus\\AppData\\Local\\Temp\\ipykernel_14072\\3287747390.py:3: UserWarning: Glyph 128202 (\\N{BAR CHART}) missing from font(s) DejaVu Sans.\n",
      "  plt.tight_layout()\n",
      "C:\\Users\\Asus\\AppData\\Local\\Programs\\Python\\Python313\\Lib\\site-packages\\IPython\\core\\pylabtools.py:170: UserWarning: Glyph 128202 (\\N{BAR CHART}) missing from font(s) DejaVu Sans.\n",
      "  fig.canvas.print_figure(bytes_io, **kw)\n"
     ]
    },
    {
     "data": {
      "image/png": "[encoded data removed]",
      "text/plain": [
       "<Figure size 1000x800 with 4 Axes>"
      ]
     },
     "metadata": {},
     "output_type": "display_data"
    }
   ],
   "source": [
    "df.hist(figsize=(10, 8), bins=20, color='skyblue', edgecolor='black')\n",
    "plt.suptitle(\"Histograms of Numeric Columns\", fontsize=16)\n",
    "plt.tight_layout()\n",
    "plt.show()\n"
   ]
  },
  {
   "cell_type": "code",
   "execution_count": 96,
   "id": "2a2e3b3f-56fb-4144-af57-b26f63d2027a",
   "metadata": {},
   "outputs": [
    {
     "name": "stderr",
     "output_type": "stream",
     "text": [
      "C:\\Users\\Asus\\AppData\\Local\\Programs\\Python\\Python313\\Lib\\site-packages\\IPython\\core\\pylabtools.py:170: UserWarning: Glyph 128200 (\\N{CHART WITH UPWARDS TREND}) missing from font(s) DejaVu Sans.\n",
      "  fig.canvas.print_figure(bytes_io, **kw)\n"
     ]
    },
    {
     "data": {
      "image/png": "[encoded data removed]",
      "text/plain": [
       "<Figure size 1000x600 with 2 Axes>"
      ]
     },
     "metadata": {},
     "output_type": "display_data"
    }
   ],
   "source": [
    "numeric_df = df.select_dtypes(include=['int64', 'float64'])\n",
    "\n",
    "plt.figure(figsize=(10, 6))\n",
    "sns.heatmap(numeric_df.corr(), annot=True, cmap='coolwarm', fmt=\".2f\", linewidths=0.5)\n",
    "plt.title(\"📈 Correlation Heatmap\", fontsize=14)\n",
    "plt.show()\n"
   ]
  },
  {
   "cell_type": "code",
   "execution_count": null,
   "id": "9eb855a9-e54f-489d-be2a-0e53e2f24bf3",
   "metadata": {},
   "outputs": [],
   "source": [
    " "
   ]
  },
  {
   "cell_type": "code",
   "execution_count": null,
   "id": "631f6506-74c9-40db-9ce4-d7971f6dfe4e",
   "metadata": {},
   "outputs": [],
   "source": []
  }
 ],
 "metadata": {
  "kernelspec": {
   "display_name": "Python 3 (ipykernel)",
   "language": "python",
   "name": "python3"
  },
  "language_info": {
   "codemirror_mode": {
    "name": "ipython",
    "version": 3
   },
   "file_extension": ".py",
   "mimetype": "text/x-python",
   "name": "python",
   "nbconvert_exporter": "python",
   "pygments_lexer": "ipython3",
   "version": "3.13.4"
  }
 },
 "nbformat": 4,
 "nbformat_minor": 5
}
