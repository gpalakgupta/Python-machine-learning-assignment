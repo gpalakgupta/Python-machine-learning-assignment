{
 "cells": [
  {
   "cell_type": "code",
   "execution_count": 1,
   "id": "17a8a177-e620-46ab-8ac3-4fbf58b609f8",
   "metadata": {},
   "outputs": [],
   "source": [
    "import numpy as np"
   ]
  },
  {
   "cell_type": "code",
   "execution_count": null,
   "id": "02a5aee3-d9bc-4099-991a-c2ab8e6249ae",
   "metadata": {},
   "outputs": [],
   "source": [
    "# task1 creating arrays"
   ]
  },
  {
   "cell_type": "code",
   "execution_count": 5,
   "id": "6c1ddaff-427d-4358-936d-d2ac18d47391",
   "metadata": {},
   "outputs": [],
   "source": [
    "arr = np.arange(1,11)"
   ]
  },
  {
   "cell_type": "code",
   "execution_count": 9,
   "id": "9006919e-549c-426b-bbb8-5ff4d6d03d8f",
   "metadata": {},
   "outputs": [
    {
     "name": "stdout",
     "output_type": "stream",
     "text": [
      "[ 1  2  3  4  5  6  7  8  9 10]\n"
     ]
    }
   ],
   "source": [
    "print(arr)"
   ]
  },
  {
   "cell_type": "code",
   "execution_count": 10,
   "id": "71f9ea3d-3d3b-48eb-bb18-b75906a11f84",
   "metadata": {},
   "outputs": [
    {
     "name": "stdout",
     "output_type": "stream",
     "text": [
      "(10,)\n"
     ]
    }
   ],
   "source": [
    "print(arr.shape)"
   ]
  },
  {
   "cell_type": "code",
   "execution_count": 11,
   "id": "d48bd04e-69ab-47f7-85bc-57b8fec00cfd",
   "metadata": {},
   "outputs": [
    {
     "name": "stdout",
     "output_type": "stream",
     "text": [
      "10\n"
     ]
    }
   ],
   "source": [
    "print(arr.size)"
   ]
  },
  {
   "cell_type": "code",
   "execution_count": 12,
   "id": "9ecf47d8-65cb-483e-b74d-4acef52b47f8",
   "metadata": {},
   "outputs": [
    {
     "name": "stdout",
     "output_type": "stream",
     "text": [
      "int64\n"
     ]
    }
   ],
   "source": [
    "print(arr.dtype)"
   ]
  },
  {
   "cell_type": "code",
   "execution_count": 13,
   "id": "c7fe7b7b-8802-4942-abd5-842d90e4373e",
   "metadata": {},
   "outputs": [],
   "source": [
    "arr = np.arange(1,10).reshape(3,3)"
   ]
  },
  {
   "cell_type": "code",
   "execution_count": 14,
   "id": "f2855550-0b4c-4a85-9ac0-46cf50c9ae17",
   "metadata": {},
   "outputs": [
    {
     "name": "stdout",
     "output_type": "stream",
     "text": [
      "[[1 2 3]\n",
      " [4 5 6]\n",
      " [7 8 9]]\n"
     ]
    }
   ],
   "source": [
    "print(arr)"
   ]
  },
  {
   "cell_type": "code",
   "execution_count": 15,
   "id": "2d9cc11e-0191-4335-97a5-5519cf115092",
   "metadata": {},
   "outputs": [
    {
     "name": "stdout",
     "output_type": "stream",
     "text": [
      "(3, 3)\n"
     ]
    }
   ],
   "source": [
    "print(arr.shape)"
   ]
  },
  {
   "cell_type": "code",
   "execution_count": 16,
   "id": "318e4241-69f9-46eb-80d2-fe6128b7e570",
   "metadata": {},
   "outputs": [
    {
     "name": "stdout",
     "output_type": "stream",
     "text": [
      "9\n"
     ]
    }
   ],
   "source": [
    "print(arr.size)"
   ]
  },
  {
   "cell_type": "code",
   "execution_count": 17,
   "id": "227b1e56-4c4e-4e4e-ab8c-9aa3cb5b358c",
   "metadata": {},
   "outputs": [
    {
     "name": "stdout",
     "output_type": "stream",
     "text": [
      "int64\n"
     ]
    }
   ],
   "source": [
    "print(arr.dtype)"
   ]
  },
  {
   "cell_type": "code",
   "execution_count": 21,
   "id": "4a35b29e-1ab6-4094-a368-162cd58ca095",
   "metadata": {},
   "outputs": [],
   "source": [
    "arr = np.random.rand(3,3,3)"
   ]
  },
  {
   "cell_type": "code",
   "execution_count": 22,
   "id": "7af39825-5cae-45d8-8d86-ed6c51681f96",
   "metadata": {},
   "outputs": [
    {
     "name": "stdout",
     "output_type": "stream",
     "text": [
      "[[[0.19323354 0.34952334 0.49219098]\n",
      "  [0.73457551 0.1564873  0.53879278]\n",
      "  [0.31710225 0.95875776 0.64239523]]\n",
      "\n",
      " [[0.58255048 0.66023604 0.71581123]\n",
      "  [0.55886496 0.59768202 0.13800962]\n",
      "  [0.9080058  0.7295054  0.37461346]]\n",
      "\n",
      " [[0.33440204 0.96176654 0.7391097 ]\n",
      "  [0.49290588 0.23977472 0.5813377 ]\n",
      "  [0.74293358 0.02502928 0.62938293]]]\n"
     ]
    }
   ],
   "source": [
    "print(arr)"
   ]
  },
  {
   "cell_type": "code",
   "execution_count": 23,
   "id": "e42ad0e8-5d9e-4a75-a6c1-bfd121ed4016",
   "metadata": {},
   "outputs": [
    {
     "name": "stdout",
     "output_type": "stream",
     "text": [
      "(3, 3, 3)\n"
     ]
    }
   ],
   "source": [
    "print(arr.shape)"
   ]
  },
  {
   "cell_type": "code",
   "execution_count": 24,
   "id": "f0efce77-2023-4806-a63c-0ac817c5a378",
   "metadata": {},
   "outputs": [
    {
     "name": "stdout",
     "output_type": "stream",
     "text": [
      "27\n"
     ]
    }
   ],
   "source": [
    "print(arr.size)"
   ]
  },
  {
   "cell_type": "code",
   "execution_count": 25,
   "id": "d2bcac1b-f3a0-4d0b-931d-0f4244011cb7",
   "metadata": {},
   "outputs": [
    {
     "name": "stdout",
     "output_type": "stream",
     "text": [
      "float64\n"
     ]
    }
   ],
   "source": [
    "print(arr.dtype)"
   ]
  },
  {
   "cell_type": "code",
   "execution_count": 26,
   "id": "b746a447-2a9d-438c-aef3-9e2350903b1b",
   "metadata": {},
   "outputs": [],
   "source": [
    "# task2 : Array indexing and slicing"
   ]
  },
  {
   "cell_type": "code",
   "execution_count": 28,
   "id": "23a537e1-8b05-46ab-ae1d-5f0a3dadd886",
   "metadata": {},
   "outputs": [],
   "source": [
    "data = np.array([10,20,30,40,50,60,70,80,90])"
   ]
  },
  {
   "cell_type": "code",
   "execution_count": 29,
   "id": "3b1de623-1a2f-4e55-93f5-bfa048be54f9",
   "metadata": {},
   "outputs": [
    {
     "data": {
      "text/plain": [
       "array([10, 20, 30, 40, 50, 60, 70, 80, 90])"
      ]
     },
     "execution_count": 29,
     "metadata": {},
     "output_type": "execute_result"
    }
   ],
   "source": [
    "data"
   ]
  },
  {
   "cell_type": "code",
   "execution_count": 31,
   "id": "bc609ae7-2593-45fb-aa3d-4c6612f797a4",
   "metadata": {},
   "outputs": [
    {
     "name": "stdout",
     "output_type": "stream",
     "text": [
      "[10 20 30]\n"
     ]
    }
   ],
   "source": [
    "print(data[:3])"
   ]
  },
  {
   "cell_type": "code",
   "execution_count": 32,
   "id": "858b3368-5701-4da8-af32-1a23e5a24ce3",
   "metadata": {},
   "outputs": [
    {
     "name": "stdout",
     "output_type": "stream",
     "text": [
      "[10 30 50 70 90]\n"
     ]
    }
   ],
   "source": [
    "print(data[::2])"
   ]
  },
  {
   "cell_type": "code",
   "execution_count": 33,
   "id": "c6eedf2f-9e3e-4e78-9f08-89d27a717e7e",
   "metadata": {},
   "outputs": [
    {
     "name": "stdout",
     "output_type": "stream",
     "text": [
      "[20 40 60 80]\n"
     ]
    }
   ],
   "source": [
    "print(data[1::2])"
   ]
  },
  {
   "cell_type": "code",
   "execution_count": 34,
   "id": "2516862a-8d90-4cb8-8f04-a7ce319ac95a",
   "metadata": {},
   "outputs": [
    {
     "name": "stdout",
     "output_type": "stream",
     "text": [
      "[90 80 70 60 50 40 30 20 10]\n"
     ]
    }
   ],
   "source": [
    "print(data[::-1])"
   ]
  },
  {
   "cell_type": "code",
   "execution_count": 35,
   "id": "77e188c0-3933-4c13-befb-5bffdd1627f4",
   "metadata": {},
   "outputs": [],
   "source": [
    "# task 3 : Mathematical Operations"
   ]
  },
  {
   "cell_type": "code",
   "execution_count": null,
   "id": "2644272b-f905-445f-9efc-b3649501e589",
   "metadata": {},
   "outputs": [],
   "source": [
    "# 1.creating two numpy arrays a and b"
   ]
  },
  {
   "cell_type": "code",
   "execution_count": 44,
   "id": "2c82593e-5967-471f-adb3-04b6a109ff3a",
   "metadata": {},
   "outputs": [],
   "source": [
    "A = np.random.randint(1,21,size=(5))"
   ]
  },
  {
   "cell_type": "code",
   "execution_count": 45,
   "id": "f43ecb1a-dcdd-4f93-a53b-a18d92a784f4",
   "metadata": {},
   "outputs": [
    {
     "data": {
      "text/plain": [
       "array([ 6, 18, 19, 12,  8], dtype=int32)"
      ]
     },
     "execution_count": 45,
     "metadata": {},
     "output_type": "execute_result"
    }
   ],
   "source": [
    "A"
   ]
  },
  {
   "cell_type": "code",
   "execution_count": 46,
   "id": "dd11f81d-c382-43cb-88db-5b91685e3fe3",
   "metadata": {},
   "outputs": [],
   "source": [
    "B = np.random.randint(1,21,size=(5))"
   ]
  },
  {
   "cell_type": "code",
   "execution_count": 47,
   "id": "120c57a4-6666-4def-b116-9c91ad2fd236",
   "metadata": {},
   "outputs": [
    {
     "data": {
      "text/plain": [
       "array([ 1, 17, 14,  1, 14], dtype=int32)"
      ]
     },
     "execution_count": 47,
     "metadata": {},
     "output_type": "execute_result"
    }
   ],
   "source": [
    "B"
   ]
  },
  {
   "cell_type": "code",
   "execution_count": null,
   "id": "fafb6815-123f-499e-b877-2feb80237b28",
   "metadata": {},
   "outputs": [],
   "source": [
    "# Some operations"
   ]
  },
  {
   "cell_type": "code",
   "execution_count": 48,
   "id": "1721fffb-a7e4-43f7-b0f4-7d3c96f4113d",
   "metadata": {},
   "outputs": [
    {
     "data": {
      "text/plain": [
       "array([ 7, 35, 33, 13, 22], dtype=int32)"
      ]
     },
     "execution_count": 48,
     "metadata": {},
     "output_type": "execute_result"
    }
   ],
   "source": [
    "A+B"
   ]
  },
  {
   "cell_type": "code",
   "execution_count": 49,
   "id": "e6dfa9a3-861b-4de7-bca7-e12278743f39",
   "metadata": {},
   "outputs": [
    {
     "data": {
      "text/plain": [
       "array([ 5,  1,  5, 11, -6], dtype=int32)"
      ]
     },
     "execution_count": 49,
     "metadata": {},
     "output_type": "execute_result"
    }
   ],
   "source": [
    "A-B"
   ]
  },
  {
   "cell_type": "code",
   "execution_count": 50,
   "id": "afc0116a-fcfe-40ea-82f8-b611e677b932",
   "metadata": {},
   "outputs": [
    {
     "data": {
      "text/plain": [
       "array([  6, 306, 266,  12, 112], dtype=int32)"
      ]
     },
     "execution_count": 50,
     "metadata": {},
     "output_type": "execute_result"
    }
   ],
   "source": [
    "A*B"
   ]
  },
  {
   "cell_type": "code",
   "execution_count": 51,
   "id": "16c0cb68-c8b5-4b34-afb3-03c5b5923e7d",
   "metadata": {},
   "outputs": [
    {
     "data": {
      "text/plain": [
       "array([ 6.        ,  1.05882353,  1.35714286, 12.        ,  0.57142857])"
      ]
     },
     "execution_count": 51,
     "metadata": {},
     "output_type": "execute_result"
    }
   ],
   "source": [
    "A/B "
   ]
  },
  {
   "cell_type": "code",
   "execution_count": 52,
   "id": "79f92427-72b2-4b17-901f-52392af56eb8",
   "metadata": {},
   "outputs": [],
   "source": [
    "# dot product"
   ]
  },
  {
   "cell_type": "code",
   "execution_count": 53,
   "id": "e4629f91-d83d-47b3-9984-6c35d2b5b4e0",
   "metadata": {},
   "outputs": [],
   "source": [
    "dot_prod = np.dot(A,B)"
   ]
  },
  {
   "cell_type": "code",
   "execution_count": 54,
   "id": "9c083dca-6d4c-473f-b402-ea5902a752c7",
   "metadata": {},
   "outputs": [
    {
     "name": "stdout",
     "output_type": "stream",
     "text": [
      "702\n"
     ]
    }
   ],
   "source": [
    "print(dot_prod)"
   ]
  },
  {
   "cell_type": "code",
   "execution_count": 55,
   "id": "75b54778-6ff8-4bae-934d-5424304d62a8",
   "metadata": {},
   "outputs": [],
   "source": [
    "# Find the mean, median, standard deviation, and variance of\n",
    "# array A."
   ]
  },
  {
   "cell_type": "code",
   "execution_count": 56,
   "id": "6d194bb1-0244-4b11-b223-a908683bffdb",
   "metadata": {},
   "outputs": [
    {
     "name": "stdout",
     "output_type": "stream",
     "text": [
      "12.6\n"
     ]
    }
   ],
   "source": [
    "print(np.mean(A))"
   ]
  },
  {
   "cell_type": "code",
   "execution_count": 57,
   "id": "a1cbb4f7-c321-4adf-8bed-841e27fc1ec2",
   "metadata": {},
   "outputs": [
    {
     "name": "stdout",
     "output_type": "stream",
     "text": [
      "12.0\n"
     ]
    }
   ],
   "source": [
    "print(np.median(A))"
   ]
  },
  {
   "cell_type": "code",
   "execution_count": 58,
   "id": "9801545f-7bc9-4476-b076-834348b6fa82",
   "metadata": {},
   "outputs": [
    {
     "name": "stdout",
     "output_type": "stream",
     "text": [
      "5.2\n"
     ]
    }
   ],
   "source": [
    "print(np.std(A))"
   ]
  },
  {
   "cell_type": "code",
   "execution_count": 59,
   "id": "7372b9b9-da5e-4c02-a657-95a5ce87d269",
   "metadata": {},
   "outputs": [
    {
     "name": "stdout",
     "output_type": "stream",
     "text": [
      "27.04\n"
     ]
    }
   ],
   "source": [
    "print(np.var(A))"
   ]
  },
  {
   "cell_type": "code",
   "execution_count": 60,
   "id": "ba264848-b069-43d9-8997-b713c0d81075",
   "metadata": {},
   "outputs": [],
   "source": [
    "# max and min of B"
   ]
  },
  {
   "cell_type": "code",
   "execution_count": 62,
   "id": "c2bc7d2d-7ed6-4dd3-a316-8f4cc744b9fb",
   "metadata": {},
   "outputs": [
    {
     "data": {
      "text/plain": [
       "array([ 1, 17, 14,  1, 14], dtype=int32)"
      ]
     },
     "execution_count": 62,
     "metadata": {},
     "output_type": "execute_result"
    }
   ],
   "source": [
    "B"
   ]
  },
  {
   "cell_type": "code",
   "execution_count": 61,
   "id": "e21f823b-c05e-448f-8fc5-ff21a72ef705",
   "metadata": {},
   "outputs": [
    {
     "name": "stdout",
     "output_type": "stream",
     "text": [
      "17 1\n"
     ]
    }
   ],
   "source": [
    "print(np.max(B),np.argmax(B))"
   ]
  },
  {
   "cell_type": "code",
   "execution_count": 63,
   "id": "ed32aeb2-8110-4aeb-8c1d-9481fd8a9b1b",
   "metadata": {},
   "outputs": [
    {
     "name": "stdout",
     "output_type": "stream",
     "text": [
      "1 0\n"
     ]
    }
   ],
   "source": [
    "print(np.min(B),np.argmin(B))"
   ]
  },
  {
   "cell_type": "code",
   "execution_count": 64,
   "id": "a1d6629d-4fdd-41d9-833d-d3288e4521da",
   "metadata": {},
   "outputs": [],
   "source": [
    "# Reshaping and Transposing"
   ]
  },
  {
   "cell_type": "code",
   "execution_count": 65,
   "id": "41771e4e-7c34-4250-8901-ce8a45fe9393",
   "metadata": {},
   "outputs": [],
   "source": [
    "arr = np.arange(1,13)"
   ]
  },
  {
   "cell_type": "code",
   "execution_count": 66,
   "id": "1216d802-8e9c-4e9d-a975-a095b27dded5",
   "metadata": {},
   "outputs": [
    {
     "data": {
      "text/plain": [
       "array([ 1,  2,  3,  4,  5,  6,  7,  8,  9, 10, 11, 12])"
      ]
     },
     "execution_count": 66,
     "metadata": {},
     "output_type": "execute_result"
    }
   ],
   "source": [
    "arr"
   ]
  },
  {
   "cell_type": "code",
   "execution_count": 71,
   "id": "5fab67cb-0c57-4d88-8019-52f79cdf1d5b",
   "metadata": {},
   "outputs": [
    {
     "data": {
      "text/plain": [
       "array([[ 1,  2,  3],\n",
       "       [ 4,  5,  6],\n",
       "       [ 7,  8,  9],\n",
       "       [10, 11, 12]])"
      ]
     },
     "execution_count": 71,
     "metadata": {},
     "output_type": "execute_result"
    }
   ],
   "source": [
    "a2 = arr.reshape(4,3)\n",
    "a2"
   ]
  },
  {
   "cell_type": "code",
   "execution_count": 72,
   "id": "0c541ff1-9d79-45a9-acbe-722d0acec27e",
   "metadata": {},
   "outputs": [
    {
     "data": {
      "text/plain": [
       "array([[[ 1,  2,  3],\n",
       "        [ 4,  5,  6]],\n",
       "\n",
       "       [[ 7,  8,  9],\n",
       "        [10, 11, 12]]])"
      ]
     },
     "execution_count": 72,
     "metadata": {},
     "output_type": "execute_result"
    }
   ],
   "source": [
    "a3 = arr.reshape(2,2,3)\n",
    "a3"
   ]
  },
  {
   "cell_type": "code",
   "execution_count": 73,
   "id": "f9f61f36-96d7-4b30-b172-057dc652e0a7",
   "metadata": {},
   "outputs": [
    {
     "data": {
      "text/plain": [
       "array([[ 1,  4,  7, 10],\n",
       "       [ 2,  5,  8, 11],\n",
       "       [ 3,  6,  9, 12]])"
      ]
     },
     "execution_count": 73,
     "metadata": {},
     "output_type": "execute_result"
    }
   ],
   "source": [
    "# Transpose\n",
    "a2.T"
   ]
  },
  {
   "cell_type": "code",
   "execution_count": 75,
   "id": "e38af35a-c016-4eaa-8873-0ffbf78b76a9",
   "metadata": {},
   "outputs": [
    {
     "name": "stdout",
     "output_type": "stream",
     "text": [
      "(3, 4)\n"
     ]
    }
   ],
   "source": [
    "print(a2.T.shape)"
   ]
  },
  {
   "cell_type": "code",
   "execution_count": 76,
   "id": "6cfa2cb2-48dc-4515-b0d9-b77f64c364f2",
   "metadata": {},
   "outputs": [],
   "source": [
    "# Boolean Masking and filtering"
   ]
  },
  {
   "cell_type": "code",
   "execution_count": 77,
   "id": "39273fa5-8131-4932-bee2-4da5e698ac30",
   "metadata": {},
   "outputs": [],
   "source": [
    "arr = np.random.randint(10,51,size=(15))"
   ]
  },
  {
   "cell_type": "code",
   "execution_count": 79,
   "id": "179876f2-a291-409f-bbb8-5a0f84093d62",
   "metadata": {},
   "outputs": [
    {
     "name": "stdout",
     "output_type": "stream",
     "text": [
      "[15 22 16 16 39 15 12 48 25 18 18 36 22 48 49]\n"
     ]
    }
   ],
   "source": [
    "print(arr)"
   ]
  },
  {
   "cell_type": "code",
   "execution_count": 85,
   "id": "1f01ecb9-4720-4329-841c-23f6828bd284",
   "metadata": {},
   "outputs": [
    {
     "name": "stdout",
     "output_type": "stream",
     "text": [
      "[39 48 36 48 49]\n"
     ]
    }
   ],
   "source": [
    "# Find all elements greater than 25.\n",
    "# for el in arr:\n",
    "#     if(el > 25):\n",
    "#         print(el)\n",
    "print(arr[arr > 25])"
   ]
  },
  {
   "cell_type": "code",
   "execution_count": 86,
   "id": "2945f00b-5fdc-4648-b0cc-60250e049c69",
   "metadata": {},
   "outputs": [],
   "source": [
    "# o Replace all elements less than 30 with 0.\n",
    "# for i in range(15):\n",
    "#     if(arr[i] < 30):\n",
    "#         arr[i] = 0\n",
    "arr[arr < 30] = 0"
   ]
  },
  {
   "cell_type": "code",
   "execution_count": 87,
   "id": "15accb67-f3ea-4871-b659-6d1692070d24",
   "metadata": {},
   "outputs": [
    {
     "name": "stdout",
     "output_type": "stream",
     "text": [
      "[ 0  0  0  0 39  0  0 48  0  0  0 36  0 48 49]\n"
     ]
    }
   ],
   "source": [
    "print(arr)"
   ]
  },
  {
   "cell_type": "code",
   "execution_count": 88,
   "id": "63c603ae-3570-4491-b80e-e5b2c39e9917",
   "metadata": {},
   "outputs": [
    {
     "name": "stdout",
     "output_type": "stream",
     "text": [
      "10\n"
     ]
    }
   ],
   "source": [
    "#  Count the number of elements divisible by 5. \n",
    "# count = 0\n",
    "# for el in arr:\n",
    "#     if(el % 5 == 0):\n",
    "#         count+=1\n",
    "# print(count)\n",
    "\n",
    "print(np.sum(arr % 5 == 0))"
   ]
  },
  {
   "cell_type": "code",
   "execution_count": null,
   "id": "491cb1c0-6c4b-4462-98ce-11f0889d496a",
   "metadata": {},
   "outputs": [],
   "source": []
  },
  {
   "cell_type": "code",
   "execution_count": 89,
   "id": "2f24a8ac-875c-4e90-bec4-276801e81205",
   "metadata": {},
   "outputs": [],
   "source": [
    "# Task 6: Working with Built-in Functions\n"
   ]
  },
  {
   "cell_type": "code",
   "execution_count": 92,
   "id": "35240444-9cb2-43b4-b09b-40c10af9281d",
   "metadata": {},
   "outputs": [],
   "source": [
    "#  Create an array of 10 equally spaced values between 0 and 1.\n",
    "arr = np.linspace(0,1,10)"
   ]
  },
  {
   "cell_type": "code",
   "execution_count": 93,
   "id": "0636b18c-6194-47a9-b056-93770bbc8d97",
   "metadata": {},
   "outputs": [
    {
     "name": "stdout",
     "output_type": "stream",
     "text": [
      "[0.         0.11111111 0.22222222 0.33333333 0.44444444 0.55555556\n",
      " 0.66666667 0.77777778 0.88888889 1.        ]\n"
     ]
    }
   ],
   "source": [
    "print(arr)"
   ]
  },
  {
   "cell_type": "code",
   "execution_count": 94,
   "id": "acc75276-6a71-4369-a4fa-345310d234b0",
   "metadata": {},
   "outputs": [],
   "source": [
    "# Create an identity matrix of size 4x4.\n",
    "mat = np.eye(4)"
   ]
  },
  {
   "cell_type": "code",
   "execution_count": 95,
   "id": "bf18bc51-ddf6-46aa-a4a8-dd073bc89801",
   "metadata": {},
   "outputs": [
    {
     "name": "stdout",
     "output_type": "stream",
     "text": [
      "[[1. 0. 0. 0.]\n",
      " [0. 1. 0. 0.]\n",
      " [0. 0. 1. 0.]\n",
      " [0. 0. 0. 1.]]\n"
     ]
    }
   ],
   "source": [
    "print(mat)"
   ]
  },
  {
   "cell_type": "code",
   "execution_count": 98,
   "id": "62e1622e-6532-4472-8b77-669d6d45c6f2",
   "metadata": {},
   "outputs": [],
   "source": [
    "# Generate a 1D array of 20 random integers between 1 and 100,\n",
    "# sort it, and find the 5 largest elements\n",
    "\n",
    "arr = np.random.randint(1,101,size=(20))"
   ]
  },
  {
   "cell_type": "code",
   "execution_count": 99,
   "id": "2219ce7c-151e-4eff-a921-f673dfabbfa2",
   "metadata": {},
   "outputs": [
    {
     "name": "stdout",
     "output_type": "stream",
     "text": [
      "[79 38 12 89 51 83 58  1 56 85 51 24 70 86 47  4 78 53 97 89]\n"
     ]
    }
   ],
   "source": [
    "print(arr)"
   ]
  },
  {
   "cell_type": "code",
   "execution_count": 100,
   "id": "c5dc9b00-1e44-40a5-887f-e98fe837823a",
   "metadata": {},
   "outputs": [],
   "source": [
    "sorted_arr = sorted(arr)"
   ]
  },
  {
   "cell_type": "code",
   "execution_count": 101,
   "id": "44a18a27-f472-40ae-910b-69c8fc3268bc",
   "metadata": {},
   "outputs": [
    {
     "name": "stdout",
     "output_type": "stream",
     "text": [
      "[np.int32(1), np.int32(4), np.int32(12), np.int32(24), np.int32(38), np.int32(47), np.int32(51), np.int32(51), np.int32(53), np.int32(56), np.int32(58), np.int32(70), np.int32(78), np.int32(79), np.int32(83), np.int32(85), np.int32(86), np.int32(89), np.int32(89), np.int32(97)]\n"
     ]
    }
   ],
   "source": [
    "print(sorted_arr)"
   ]
  },
  {
   "cell_type": "code",
   "execution_count": 102,
   "id": "7e8fb5ac-8980-420f-a0a9-fd9e7bc82e5d",
   "metadata": {},
   "outputs": [
    {
     "name": "stdout",
     "output_type": "stream",
     "text": [
      "[np.int32(85), np.int32(86), np.int32(89), np.int32(89), np.int32(97)]\n"
     ]
    }
   ],
   "source": [
    "print(sorted_arr[-5:])"
   ]
  },
  {
   "cell_type": "code",
   "execution_count": 103,
   "id": "7e63700d-7d59-40a9-b624-19c22f66b0d9",
   "metadata": {},
   "outputs": [],
   "source": [
    "# "
   ]
  },
  {
   "cell_type": "code",
   "execution_count": 104,
   "id": "ae73aefe-8c89-4a61-88b5-2b4f22a12576",
   "metadata": {},
   "outputs": [],
   "source": [
    "# Task 7 : Generic"
   ]
  },
  {
   "cell_type": "code",
   "execution_count": 105,
   "id": "d4da6b66-5641-4bc1-a81a-2a2429107191",
   "metadata": {},
   "outputs": [],
   "source": [
    "import time"
   ]
  },
  {
   "cell_type": "code",
   "execution_count": 106,
   "id": "ddf975e7-28b8-4b36-8970-87389b53a97c",
   "metadata": {},
   "outputs": [],
   "source": [
    "# generate two large random arrays of size (100, 100)\n",
    "A = np.random.rand(100,100)\n",
    "B = np.random.rand(100,100)"
   ]
  },
  {
   "cell_type": "code",
   "execution_count": 108,
   "id": "f8869d6d-041e-4ded-8f68-a0d76f3e6ef4",
   "metadata": {},
   "outputs": [
    {
     "name": "stdout",
     "output_type": "stream",
     "text": [
      "[[0.30987177 0.0474473  0.17250631 ... 0.93726742 0.90193187 0.36157861]\n",
      " [0.7129233  0.24769354 0.98481941 ... 0.73366651 0.7163026  0.91904139]\n",
      " [0.55076447 0.20752647 0.52863061 ... 0.41175596 0.17038135 0.24951319]\n",
      " ...\n",
      " [0.33006343 0.95661449 0.52742416 ... 0.08372306 0.01126843 0.28682024]\n",
      " [0.43033404 0.14665782 0.10334459 ... 0.08728274 0.05817852 0.70575556]\n",
      " [0.30130193 0.09341135 0.06139384 ... 0.86372188 0.76189153 0.1400132 ]]\n"
     ]
    }
   ],
   "source": [
    "print(A)"
   ]
  },
  {
   "cell_type": "code",
   "execution_count": 109,
   "id": "0306c831-6ee1-4a48-bd1e-651dd75c3673",
   "metadata": {},
   "outputs": [
    {
     "name": "stdout",
     "output_type": "stream",
     "text": [
      "[[0.52846292 0.78399843 0.17034563 ... 0.74549767 0.57525432 0.85209555]\n",
      " [0.28954912 0.2333315  0.88108301 ... 0.07152085 0.00554855 0.06858345]\n",
      " [0.795094   0.65023858 0.87329927 ... 0.80333544 0.74587445 0.34849097]\n",
      " ...\n",
      " [0.82714565 0.59468775 0.75528588 ... 0.49104637 0.88869063 0.03025794]\n",
      " [0.33856189 0.0214106  0.98222492 ... 0.93899368 0.26864375 0.77485065]\n",
      " [0.47849812 0.25791894 0.30712835 ... 0.65008522 0.16574022 0.62257301]]\n"
     ]
    }
   ],
   "source": [
    "print(B)"
   ]
  },
  {
   "cell_type": "code",
   "execution_count": 110,
   "id": "626c5259-8bf5-4a6b-8abf-dffc5994d0b4",
   "metadata": {},
   "outputs": [],
   "source": [
    "start_time = time.time()"
   ]
  },
  {
   "cell_type": "code",
   "execution_count": 112,
   "id": "c67223d2-4fa9-48ef-be25-24bee1bf5f5c",
   "metadata": {},
   "outputs": [
    {
     "name": "stdout",
     "output_type": "stream",
     "text": [
      "[[26.43075455 23.37329392 27.78986802 ... 28.30440654 24.92188464\n",
      "  25.53625064]\n",
      " [24.57497316 20.1784952  27.33607209 ... 25.89991776 25.52784139\n",
      "  26.27518476]\n",
      " [22.2485078  19.97825815 23.93764965 ... 23.25840439 23.31730857\n",
      "  24.07956197]\n",
      " ...\n",
      " [24.72589671 22.85707619 28.62755995 ... 27.96620511 24.04610032\n",
      "  26.36768819]\n",
      " [23.89160518 21.47577384 24.3402005  ... 25.17261491 21.6047776\n",
      "  23.74552687]\n",
      " [26.79589729 21.54225779 27.75367004 ... 26.49879923 24.58441465\n",
      "  27.69200745]]\n"
     ]
    }
   ],
   "source": [
    "# perform matrix multiplication\n",
    "result = np.dot(A,B)\n",
    "print(result)"
   ]
  },
  {
   "cell_type": "code",
   "execution_count": 114,
   "id": "d9d42bb8-b1fe-4db6-9a5b-81701b7ea70d",
   "metadata": {},
   "outputs": [
    {
     "name": "stdout",
     "output_type": "stream",
     "text": [
      "-3.046532121506468e+50\n",
      "Inverse calculated\n"
     ]
    }
   ],
   "source": [
    "# Finds the determinant and inverse of the resulting matrix (if\n",
    "# possible).\n",
    "\n",
    "try:\n",
    "    det = np.linalg.det(result)\n",
    "    print(det)\n",
    "    if(det != 0):\n",
    "        inverse = np.linalg.inv(result)\n",
    "        print(\"Inverse calculated\")\n",
    "    else:\n",
    "        print(\"Non- invertible\")\n",
    "except np.linalg.LinAlgError as e:\n",
    "    print(\"Error:\",e)"
   ]
  },
  {
   "cell_type": "code",
   "execution_count": 115,
   "id": "31eca57f-87e2-47e0-9427-61736b0814ed",
   "metadata": {},
   "outputs": [],
   "source": [
    "end_time = time.time()"
   ]
  },
  {
   "cell_type": "code",
   "execution_count": 116,
   "id": "ba3b08cd-f09e-4ccc-a89a-9ea289f629d8",
   "metadata": {},
   "outputs": [
    {
     "name": "stdout",
     "output_type": "stream",
     "text": [
      "time taken for all operations:192.58266186714172\n"
     ]
    }
   ],
   "source": [
    "print(f'time taken for all operations:{end_time-start_time}')"
   ]
  },
  {
   "cell_type": "code",
   "execution_count": null,
   "id": "def65d6c-5e40-4fd2-8543-3c3f6be461b9",
   "metadata": {},
   "outputs": [],
   "source": []
  }
 ],
 "metadata": {
  "kernelspec": {
   "display_name": "Python 3 (ipykernel)",
   "language": "python",
   "name": "python3"
  },
  "language_info": {
   "codemirror_mode": {
    "name": "ipython",
    "version": 3
   },
   "file_extension": ".py",
   "mimetype": "text/x-python",
   "name": "python",
   "nbconvert_exporter": "python",
   "pygments_lexer": "ipython3",
   "version": "3.13.4"
  }
 },
 "nbformat": 4,
 "nbformat_minor": 5
}
